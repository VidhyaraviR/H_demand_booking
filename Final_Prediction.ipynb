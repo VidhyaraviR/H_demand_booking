{
 "cells": [
  {
   "cell_type": "markdown",
   "id": "38ed9e91",
   "metadata": {},
   "source": [
    " # <center> Final_Prediction </center>"
   ]
  },
  {
   "cell_type": "markdown",
   "id": "b00cc3a8",
   "metadata": {},
   "source": [
    "#  Import Packages"
   ]
  },
  {
   "cell_type": "code",
   "execution_count": 1,
   "id": "40f43f06",
   "metadata": {},
   "outputs": [],
   "source": [
    "import joblib as jb\n",
    "Feature_selection =jb.load('hotel_data/train/model/featureselected_model.pkl')\n",
    "encode_model =jb.load('hotel_data/train/model/train_encode_model.pkl')\n",
    "model=jb.load('hotel_data/train/model/tree_clf_model.pkl')\n",
    "\n",
    "import pandas as pd\n",
    "from sklearn.metrics import classification_report,confusion_matrix,ConfusionMatrixDisplay"
   ]
  },
  {
   "cell_type": "markdown",
   "id": "f0c8cacf",
   "metadata": {},
   "source": [
    "defines a def function called flow that takes two parameters: X_path and y_path.<br>\n",
    "by following all steps:"
   ]
  },
  {
   "cell_type": "code",
   "execution_count": 2,
   "id": "111e223d",
   "metadata": {},
   "outputs": [],
   "source": [
    "def flow (X_path,y_path):\n",
    "    #read\n",
    "    X_test=pd.read_csv(X_path)\n",
    "    y_test=pd.read_csv(y_path)\n",
    "    y_test=y_test.replace({'not_Cancelled':0,'Cancelled':1})\n",
    "    \n",
    "    # encode\n",
    "    encode_data=encode_model.transform(X_test)\n",
    "    encode_data = pd.DataFrame(encode_data, columns=encode_model.get_feature_names_out())\n",
    "    \n",
    "    # Feature_selection\n",
    "    featuer_selected=encode_data[Feature_selection]\n",
    "\n",
    "  \n",
    "    # predcit\n",
    "    y_pred=pd.DataFrame(model.predict(featuer_selected))  \n",
    "    y_pred= y_pred.replace({'Cancelled':1, 'not_Cancelled':0})\n",
    "\n",
    "    #metrics\n",
    "    report = classification_report(y_pred, y_test)\n",
    "    cm=confusion_matrix(y_pred,y_test)\n",
    "    disp = ConfusionMatrixDisplay(confusion_matrix=cm)\n",
    "    \n",
    "    return y_pred,report,disp"
   ]
  },
  {
   "cell_type": "code",
   "execution_count": 3,
   "id": "3ffd417f",
   "metadata": {},
   "outputs": [],
   "source": [
    "y_pred,report,disp=flow('hotel_data/final_feat.csv','hotel_data/lable.csv')"
   ]
  },
  {
   "cell_type": "code",
   "execution_count": 4,
   "id": "b360d559",
   "metadata": {},
   "outputs": [
    {
     "data": {
      "text/html": [
       "<div>\n",
       "<style scoped>\n",
       "    .dataframe tbody tr th:only-of-type {\n",
       "        vertical-align: middle;\n",
       "    }\n",
       "\n",
       "    .dataframe tbody tr th {\n",
       "        vertical-align: top;\n",
       "    }\n",
       "\n",
       "    .dataframe thead th {\n",
       "        text-align: right;\n",
       "    }\n",
       "</style>\n",
       "<table border=\"1\" class=\"dataframe\">\n",
       "  <thead>\n",
       "    <tr style=\"text-align: right;\">\n",
       "      <th></th>\n",
       "      <th>0</th>\n",
       "    </tr>\n",
       "  </thead>\n",
       "  <tbody>\n",
       "    <tr>\n",
       "      <th>0</th>\n",
       "      <td>0</td>\n",
       "    </tr>\n",
       "    <tr>\n",
       "      <th>1</th>\n",
       "      <td>1</td>\n",
       "    </tr>\n",
       "    <tr>\n",
       "      <th>2</th>\n",
       "      <td>0</td>\n",
       "    </tr>\n",
       "    <tr>\n",
       "      <th>3</th>\n",
       "      <td>1</td>\n",
       "    </tr>\n",
       "    <tr>\n",
       "      <th>4</th>\n",
       "      <td>1</td>\n",
       "    </tr>\n",
       "    <tr>\n",
       "      <th>...</th>\n",
       "      <td>...</td>\n",
       "    </tr>\n",
       "    <tr>\n",
       "      <th>35812</th>\n",
       "      <td>0</td>\n",
       "    </tr>\n",
       "    <tr>\n",
       "      <th>35813</th>\n",
       "      <td>1</td>\n",
       "    </tr>\n",
       "    <tr>\n",
       "      <th>35814</th>\n",
       "      <td>1</td>\n",
       "    </tr>\n",
       "    <tr>\n",
       "      <th>35815</th>\n",
       "      <td>1</td>\n",
       "    </tr>\n",
       "    <tr>\n",
       "      <th>35816</th>\n",
       "      <td>0</td>\n",
       "    </tr>\n",
       "  </tbody>\n",
       "</table>\n",
       "<p>35817 rows × 1 columns</p>\n",
       "</div>"
      ],
      "text/plain": [
       "       0\n",
       "0      0\n",
       "1      1\n",
       "2      0\n",
       "3      1\n",
       "4      1\n",
       "...   ..\n",
       "35812  0\n",
       "35813  1\n",
       "35814  1\n",
       "35815  1\n",
       "35816  0\n",
       "\n",
       "[35817 rows x 1 columns]"
      ]
     },
     "execution_count": 4,
     "metadata": {},
     "output_type": "execute_result"
    }
   ],
   "source": [
    "y_pred"
   ]
  },
  {
   "cell_type": "code",
   "execution_count": 5,
   "id": "8ac9748c",
   "metadata": {
    "scrolled": true
   },
   "outputs": [
    {
     "name": "stdout",
     "output_type": "stream",
     "text": [
      "              precision    recall  f1-score   support\n",
      "\n",
      "           0       1.00      1.00      1.00     22578\n",
      "           1       1.00      1.00      1.00     13239\n",
      "\n",
      "    accuracy                           1.00     35817\n",
      "   macro avg       1.00      1.00      1.00     35817\n",
      "weighted avg       1.00      1.00      1.00     35817\n",
      "\n"
     ]
    }
   ],
   "source": [
    "print(report)"
   ]
  },
  {
   "cell_type": "code",
   "execution_count": 6,
   "id": "4bf4e1d2",
   "metadata": {
    "scrolled": true
   },
   "outputs": [
    {
     "data": {
      "text/plain": [
       "<sklearn.metrics._plot.confusion_matrix.ConfusionMatrixDisplay at 0x1ecaae4ba30>"
      ]
     },
     "execution_count": 6,
     "metadata": {},
     "output_type": "execute_result"
    },
    {
     "data": {
      "image/png": "[encoded data removed]",
      "text/plain": [
       "<Figure size 640x480 with 2 Axes>"
      ]
     },
     "metadata": {},
     "output_type": "display_data"
    }
   ],
   "source": [
    "disp.plot()"
   ]
  },
  {
   "cell_type": "markdown",
   "id": "b491512f",
   "metadata": {},
   "source": [
    "<div class=\"alert alert-info\">\n",
    "   In total of 35817 bookings. that are<br>\n",
    "          NOT CANCELLED = 22578<br>\n",
    "              CANCELLED = 13239<br>\n",
    "</div>"
   ]
  },
  {
   "cell_type": "code",
   "execution_count": null,
   "id": "4d251757",
   "metadata": {},
   "outputs": [],
   "source": []
  }
 ],
 "metadata": {
  "kernelspec": {
   "display_name": "Python 3 (ipykernel)",
   "language": "python",
   "name": "python3"
  },
  "language_info": {
   "codemirror_mode": {
    "name": "ipython",
    "version": 3
   },
   "file_extension": ".py",
   "mimetype": "text/x-python",
   "name": "python",
   "nbconvert_exporter": "python",
   "pygments_lexer": "ipython3",
   "version": "3.10.8"
  }
 },
 "nbformat": 4,
 "nbformat_minor": 5
}
