{
 "cells": [
  {
   "cell_type": "markdown",
   "id": "a8ad74a2",
   "metadata": {},
   "source": [
    "# <center>`Hotel booking demand`</center>"
   ]
  },
  {
   "cell_type": "markdown",
   "id": "b8eb1987",
   "metadata": {},
   "source": [
    "\n",
    "### That we will make predictive model to predict whether the booking will be cancelled or not cancelled\n",
    "\n",
    "**We will:**<br>\n",
    "\n",
    "    - Perform the Feature Engineering to make new featuers\n",
    "    - Perform the Data Selection to select only relevant features \n",
    "    - Tranform the Data (Categorial to Numerical)\n",
    "    - Split the data (Train Test Split)\n",
    "    - Model the data (Fit the Data)\n",
    "    - And finally Evaluate our model"
   ]
  },
  {
   "cell_type": "markdown",
   "id": "da56b2cc",
   "metadata": {},
   "source": [
    "#  Explore The Data: What Data Are We Using?\n",
    "              This data set contains booking information for a city hotel and a resort hotel, and includes information such as when  the booking was made, length of stay, the number of adults, children, and/or babies,and the number of available parking spaces, among other things. Using the booking information about these hotels, the challenge is to build a model to predict booking cancellation based on the following fields:\n",
    "\n",
    "## Data Description   :\n",
    "  - <b>hotel</b> (str) - Hotel (H1 = Resort Hotel or H2 = City Hotel)<br>\n",
    "  - <b>lead_time</b> (int) - Number of days that elapsed between the entering date of the booking into the PMS and the arrival date<br>\n",
    "  - <b>arrival_date_year</b> (int) - Year of arrival date<br>\n",
    "  - <b>arrival_date_month</b> (str) - Month of arrival date<br>\n",
    "  - <b>arrival_date_week_number</b> (int) - Week number of year for arrival date<br>\n",
    "  - <b>arrival_date_day_of_month</b> (int) - Day of arrival date<br>\n",
    "  - <b>stays_in_weekend_nights</b> (int) - Number of weekend nights (Saturday or Sunday) the guest stayed or booked to stay at the hotel<br>\n",
    "  - <b>stays_in_week_nights</b> (int) - Number of week nights (Monday to Friday) the guest stayed or booked to stay at the hotel<br>\n",
    "  - <b>adults</b> (int) - Number of adults<br>\n",
    "  - <b>children</b> (float) - Number of children<br>\n",
    "  - <b>babies</b> (int) - Number of babies<br>\n",
    "  - <b>meal</b> (str) - Type of meal booked. Categories are presented in standard hospitality meal packages: (Undefined/SC = no meal package, BB = Bed & Breakfast, HB = Half board – breakfast and one other meal - usually dinner, FB = Full board – breakfast, lunch and dinner)<br>\n",
    "  - <b>country</b> (str) - Country of origin. Categories are represented in the ISO 3155–3:2013 format<br>\n",
    "  - <b>market_segment</b> (str) - Market segment designation (TA = Travel Agents, TO = Tour Operators)<br>\n",
    "  - <b>distribution_channel</b> (str) - Booking distribution channel (TA = Travel Agents, TO = Tour Operators)<br>\n",
    "  - <b>is_repeated_guest</b> (int) - Value indicating if the booking name was from a repeated guest (1) or not (0)<br>\n",
    "  - <b>previous_cancellations</b> (int) - Number of previous bookings that were cancelled by the customer prior to the current booking<br>\n",
    "  - <b>previous_bookings_not_canceled</b> (int) - Number of previous bookings not cancelled by the customer prior to the current booking<br>\n",
    "  - <b>reserved_room_type</b> (str) - Code of room type reserved. Code is presented instead of designation for anonymity reasons<br>\n",
    "  - <b>assigned_room_type</b> (str) - Code for the type of room assigned to the booking. Sometimes the assigned room type differs from the reserved room type due to hotel operation reasons (e.g. overbooking) or by customer request. Code is presented instead of designation for anonymity reasons<br>\n",
    "  - <b>booking_changes</b> (int) - Number of changes/amendments made to the booking from the moment the booking was entered on the PMS until the moment of check-in or cancellation<br>\n",
    "  - <b>deposit_type</b> (str) - Indication on if the customer made a deposit to guarantee the booking. This variable can assume three categories: (No Deposit = no deposit was made, Non Refund = a deposit was made in the value of the total stay cost, Refundable = a deposit was made with a value under the total cost of stay)<br>\n",
    "  - <b>agent</b> (float) - ID of the travel agency that made the booking<br>\n",
    "  - <b>company</b> (float) - ID of the company/entity that made the booking or responsible for paying the booking. ID is presented instead of designation for anonymity reasons<br>\n",
    "  - <b>days_in_waiting_list</b> (int) - Number of days the booking was in the waiting list before it was confirmed to the customer<br>\n",
    "  - <b>customer_type</b> (str) - Type of booking, assuming one of four categories: (Contract = when the booking has an allotment or other type of contract associated to it, Group = when the booking is associated to a group, Transient = when the booking is not part of a group or contract, and is not associated to other transient booking, Transient-party = when the booking is transient, but is associated to at least other transient booking<br>\n",
    "  - <b>adr</b> (float) - Average Daily Rate as defined by dividing the sum of all lodging transactions by the total number of staying nights<br>\n",
    "  - <b>required_car_parking_spaces</b> (int) - Number of car parking spaces required by the customer<br>\n",
    "  - <b>total_of_special_requests</b> (int) - Number of special requests made by the customer (e.g. twin bed or high floor)<br>\n",
    "  - <b>reservation_status</b> (str) - Reservation last status, assuming one of three categories: (Canceled = booking was canceled by the customer, Check-Out = customer has checked in but already departed, No-Show = customer did not check-in and did inform the hotel of the reason why)<br>\n",
    "  - <b>reservation_status_date</b> (str) - Date at which the last status was set. This variable can be used in conjunction with the ReservationStatus to understand when was the booking canceled or when did the customer checked-out of the hotel<br>\n",
    "   "
   ]
  },
  {
   "cell_type": "markdown",
   "id": "7ef70448",
   "metadata": {},
   "source": [
    "# Packages Import"
   ]
  },
  {
   "cell_type": "code",
   "execution_count": 1,
   "id": "ce855661",
   "metadata": {},
   "outputs": [],
   "source": [
    "import pandas as pd\n",
    "import seaborn as sns\n",
    "sns.set(color_codes=True)\n",
    "import numpy as np\n",
    "import matplotlib.pyplot as plt\n",
    "\n",
    "from sklearn.preprocessing import OrdinalEncoder\n",
    "\n",
    "import joblib as jb\n",
    "from time import time\n",
    "\n",
    "from sklearn.model_selection import train_test_split, GridSearchCV\n",
    "from sklearn.metrics import classification_report,confusion_matrix,ConfusionMatrixDisplay\n",
    "from sklearn.metrics import accuracy_score, f1_score, precision_score, recall_score\n",
    "\n",
    "from sklearn.linear_model import LogisticRegression\n",
    "from sklearn.tree import DecisionTreeClassifier\n",
    "from sklearn.ensemble import RandomForestClassifier\n",
    "from xgboost import XGBClassifier\n",
    "\n",
    "import warnings\n",
    "warnings.filterwarnings(\"ignore\")"
   ]
  },
  {
   "cell_type": "markdown",
   "id": "016ae7c0",
   "metadata": {},
   "source": [
    "# Read the train data\n",
    "\n",
    "`Loading the data into the pandas data frame is certainly one of the most important steps in EDA, as we can see that the value from the data set is comma-separated. So all we have to do is to just read the CSV into a data frame and pandas data frame does the job for us.`"
   ]
  },
  {
   "cell_type": "code",
   "execution_count": 2,
   "id": "3e1c0d86",
   "metadata": {},
   "outputs": [],
   "source": [
    "hotel_raw_data=pd.read_csv(\"hotel_data/client_train.csv\")"
   ]
  },
  {
   "cell_type": "code",
   "execution_count": 3,
   "id": "8b6930bb",
   "metadata": {},
   "outputs": [
    {
     "data": {
      "text/html": [
       "<div>\n",
       "<style scoped>\n",
       "    .dataframe tbody tr th:only-of-type {\n",
       "        vertical-align: middle;\n",
       "    }\n",
       "\n",
       "    .dataframe tbody tr th {\n",
       "        vertical-align: top;\n",
       "    }\n",
       "\n",
       "    .dataframe thead th {\n",
       "        text-align: right;\n",
       "    }\n",
       "</style>\n",
       "<table border=\"1\" class=\"dataframe\">\n",
       "  <thead>\n",
       "    <tr style=\"text-align: right;\">\n",
       "      <th></th>\n",
       "      <th>hotel</th>\n",
       "      <th>is_canceled</th>\n",
       "      <th>lead_time</th>\n",
       "      <th>arrival_date_year</th>\n",
       "      <th>arrival_date_month</th>\n",
       "      <th>arrival_date_week_number</th>\n",
       "      <th>arrival_date_day_of_month</th>\n",
       "      <th>stays_in_weekend_nights</th>\n",
       "      <th>stays_in_week_nights</th>\n",
       "      <th>adults</th>\n",
       "      <th>...</th>\n",
       "      <th>deposit_type</th>\n",
       "      <th>agent</th>\n",
       "      <th>company</th>\n",
       "      <th>days_in_waiting_list</th>\n",
       "      <th>customer_type</th>\n",
       "      <th>adr</th>\n",
       "      <th>required_car_parking_spaces</th>\n",
       "      <th>total_of_special_requests</th>\n",
       "      <th>reservation_status</th>\n",
       "      <th>reservation_status_date</th>\n",
       "    </tr>\n",
       "  </thead>\n",
       "  <tbody>\n",
       "    <tr>\n",
       "      <th>0</th>\n",
       "      <td>City Hotel</td>\n",
       "      <td>1</td>\n",
       "      <td>365</td>\n",
       "      <td>2015</td>\n",
       "      <td>October</td>\n",
       "      <td>42</td>\n",
       "      <td>17</td>\n",
       "      <td>1</td>\n",
       "      <td>1</td>\n",
       "      <td>2</td>\n",
       "      <td>...</td>\n",
       "      <td>Non Refund</td>\n",
       "      <td>1.0</td>\n",
       "      <td>NaN</td>\n",
       "      <td>0</td>\n",
       "      <td>Transient</td>\n",
       "      <td>62.8</td>\n",
       "      <td>0</td>\n",
       "      <td>0</td>\n",
       "      <td>Canceled</td>\n",
       "      <td>2015-01-30</td>\n",
       "    </tr>\n",
       "    <tr>\n",
       "      <th>1</th>\n",
       "      <td>Resort Hotel</td>\n",
       "      <td>1</td>\n",
       "      <td>94</td>\n",
       "      <td>2017</td>\n",
       "      <td>January</td>\n",
       "      <td>4</td>\n",
       "      <td>28</td>\n",
       "      <td>0</td>\n",
       "      <td>1</td>\n",
       "      <td>2</td>\n",
       "      <td>...</td>\n",
       "      <td>No Deposit</td>\n",
       "      <td>240.0</td>\n",
       "      <td>NaN</td>\n",
       "      <td>0</td>\n",
       "      <td>Transient</td>\n",
       "      <td>42.0</td>\n",
       "      <td>0</td>\n",
       "      <td>1</td>\n",
       "      <td>Canceled</td>\n",
       "      <td>2016-10-27</td>\n",
       "    </tr>\n",
       "    <tr>\n",
       "      <th>2</th>\n",
       "      <td>City Hotel</td>\n",
       "      <td>1</td>\n",
       "      <td>405</td>\n",
       "      <td>2016</td>\n",
       "      <td>August</td>\n",
       "      <td>34</td>\n",
       "      <td>18</td>\n",
       "      <td>0</td>\n",
       "      <td>2</td>\n",
       "      <td>2</td>\n",
       "      <td>...</td>\n",
       "      <td>Non Refund</td>\n",
       "      <td>1.0</td>\n",
       "      <td>NaN</td>\n",
       "      <td>0</td>\n",
       "      <td>Transient</td>\n",
       "      <td>62.0</td>\n",
       "      <td>0</td>\n",
       "      <td>0</td>\n",
       "      <td>Canceled</td>\n",
       "      <td>2015-10-21</td>\n",
       "    </tr>\n",
       "    <tr>\n",
       "      <th>3</th>\n",
       "      <td>City Hotel</td>\n",
       "      <td>0</td>\n",
       "      <td>5</td>\n",
       "      <td>2016</td>\n",
       "      <td>February</td>\n",
       "      <td>6</td>\n",
       "      <td>2</td>\n",
       "      <td>0</td>\n",
       "      <td>1</td>\n",
       "      <td>1</td>\n",
       "      <td>...</td>\n",
       "      <td>No Deposit</td>\n",
       "      <td>9.0</td>\n",
       "      <td>NaN</td>\n",
       "      <td>0</td>\n",
       "      <td>Transient</td>\n",
       "      <td>79.0</td>\n",
       "      <td>0</td>\n",
       "      <td>1</td>\n",
       "      <td>Check-Out</td>\n",
       "      <td>2016-02-03</td>\n",
       "    </tr>\n",
       "    <tr>\n",
       "      <th>4</th>\n",
       "      <td>City Hotel</td>\n",
       "      <td>1</td>\n",
       "      <td>46</td>\n",
       "      <td>2016</td>\n",
       "      <td>December</td>\n",
       "      <td>50</td>\n",
       "      <td>8</td>\n",
       "      <td>0</td>\n",
       "      <td>3</td>\n",
       "      <td>2</td>\n",
       "      <td>...</td>\n",
       "      <td>No Deposit</td>\n",
       "      <td>9.0</td>\n",
       "      <td>NaN</td>\n",
       "      <td>0</td>\n",
       "      <td>Transient</td>\n",
       "      <td>111.6</td>\n",
       "      <td>0</td>\n",
       "      <td>1</td>\n",
       "      <td>Canceled</td>\n",
       "      <td>2016-11-04</td>\n",
       "    </tr>\n",
       "  </tbody>\n",
       "</table>\n",
       "<p>5 rows × 32 columns</p>\n",
       "</div>"
      ],
      "text/plain": [
       "          hotel  is_canceled  lead_time  arrival_date_year arrival_date_month  \\\n",
       "0    City Hotel            1        365               2015            October   \n",
       "1  Resort Hotel            1         94               2017            January   \n",
       "2    City Hotel            1        405               2016             August   \n",
       "3    City Hotel            0          5               2016           February   \n",
       "4    City Hotel            1         46               2016           December   \n",
       "\n",
       "   arrival_date_week_number  arrival_date_day_of_month  \\\n",
       "0                        42                         17   \n",
       "1                         4                         28   \n",
       "2                        34                         18   \n",
       "3                         6                          2   \n",
       "4                        50                          8   \n",
       "\n",
       "   stays_in_weekend_nights  stays_in_week_nights  adults  ...  deposit_type  \\\n",
       "0                        1                     1       2  ...    Non Refund   \n",
       "1                        0                     1       2  ...    No Deposit   \n",
       "2                        0                     2       2  ...    Non Refund   \n",
       "3                        0                     1       1  ...    No Deposit   \n",
       "4                        0                     3       2  ...    No Deposit   \n",
       "\n",
       "   agent company days_in_waiting_list customer_type    adr  \\\n",
       "0    1.0     NaN                    0     Transient   62.8   \n",
       "1  240.0     NaN                    0     Transient   42.0   \n",
       "2    1.0     NaN                    0     Transient   62.0   \n",
       "3    9.0     NaN                    0     Transient   79.0   \n",
       "4    9.0     NaN                    0     Transient  111.6   \n",
       "\n",
       "   required_car_parking_spaces  total_of_special_requests  reservation_status  \\\n",
       "0                            0                          0            Canceled   \n",
       "1                            0                          1            Canceled   \n",
       "2                            0                          0            Canceled   \n",
       "3                            0                          1           Check-Out   \n",
       "4                            0                          1            Canceled   \n",
       "\n",
       "  reservation_status_date  \n",
       "0              2015-01-30  \n",
       "1              2016-10-27  \n",
       "2              2015-10-21  \n",
       "3              2016-02-03  \n",
       "4              2016-11-04  \n",
       "\n",
       "[5 rows x 32 columns]"
      ]
     },
     "execution_count": 3,
     "metadata": {},
     "output_type": "execute_result"
    }
   ],
   "source": [
    "# To display the top 5 rows\n",
    "hotel_raw_data.head(5)"
   ]
  },
  {
   "cell_type": "markdown",
   "id": "e5afaf13",
   "metadata": {},
   "source": [
    "# Data Pre-Processing\n",
    "`Preprocessing in Data Mining: Data preprocessing is a data mining technique which is used to transform the raw data in a useful and efficient format.`"
   ]
  },
  {
   "cell_type": "code",
   "execution_count": 4,
   "id": "31210f41",
   "metadata": {},
   "outputs": [],
   "source": [
    "## Copy the dataset\n",
    "h_data= hotel_raw_data.copy()"
   ]
  },
  {
   "cell_type": "markdown",
   "id": "4f5e0e7d",
   "metadata": {},
   "source": [
    "## In this step come to know shape of the data"
   ]
  },
  {
   "cell_type": "code",
   "execution_count": 5,
   "id": "0d05afca",
   "metadata": {},
   "outputs": [
    {
     "data": {
      "text/plain": [
       "(83573, 32)"
      ]
     },
     "execution_count": 5,
     "metadata": {},
     "output_type": "execute_result"
    }
   ],
   "source": [
    "h_data.shape"
   ]
  },
  {
   "cell_type": "markdown",
   "id": "8957776e",
   "metadata": {},
   "source": [
    "## Identifying unique values in data"
   ]
  },
  {
   "cell_type": "code",
   "execution_count": 6,
   "id": "8b08c0cc",
   "metadata": {},
   "outputs": [
    {
     "data": {
      "text/plain": [
       "hotel                                2\n",
       "is_canceled                          2\n",
       "lead_time                          477\n",
       "arrival_date_year                    3\n",
       "arrival_date_month                  12\n",
       "arrival_date_week_number            53\n",
       "arrival_date_day_of_month           31\n",
       "stays_in_weekend_nights             16\n",
       "stays_in_week_nights                31\n",
       "adults                              12\n",
       "children                             5\n",
       "babies                               5\n",
       "meal                                 5\n",
       "country                            168\n",
       "market_segment                       8\n",
       "distribution_channel                 5\n",
       "is_repeated_guest                    2\n",
       "previous_cancellations              15\n",
       "previous_bookings_not_canceled      57\n",
       "reserved_room_type                  10\n",
       "assigned_room_type                  12\n",
       "booking_changes                     19\n",
       "deposit_type                         3\n",
       "agent                              321\n",
       "company                            321\n",
       "days_in_waiting_list               122\n",
       "customer_type                        4\n",
       "adr                               7503\n",
       "required_car_parking_spaces          5\n",
       "total_of_special_requests            6\n",
       "reservation_status                   3\n",
       "reservation_status_date            915\n",
       "dtype: int64"
      ]
     },
     "execution_count": 6,
     "metadata": {},
     "output_type": "execute_result"
    }
   ],
   "source": [
    "h_data.nunique()"
   ]
  },
  {
   "cell_type": "markdown",
   "id": "35ef3cb7",
   "metadata": {},
   "source": [
    "## To get all columns name "
   ]
  },
  {
   "cell_type": "code",
   "execution_count": 7,
   "id": "1f67ab66",
   "metadata": {},
   "outputs": [
    {
     "data": {
      "text/plain": [
       "Index(['hotel', 'is_canceled', 'lead_time', 'arrival_date_year',\n",
       "       'arrival_date_month', 'arrival_date_week_number',\n",
       "       'arrival_date_day_of_month', 'stays_in_weekend_nights',\n",
       "       'stays_in_week_nights', 'adults', 'children', 'babies', 'meal',\n",
       "       'country', 'market_segment', 'distribution_channel',\n",
       "       'is_repeated_guest', 'previous_cancellations',\n",
       "       'previous_bookings_not_canceled', 'reserved_room_type',\n",
       "       'assigned_room_type', 'booking_changes', 'deposit_type', 'agent',\n",
       "       'company', 'days_in_waiting_list', 'customer_type', 'adr',\n",
       "       'required_car_parking_spaces', 'total_of_special_requests',\n",
       "       'reservation_status', 'reservation_status_date'],\n",
       "      dtype='object')"
      ]
     },
     "execution_count": 7,
     "metadata": {},
     "output_type": "execute_result"
    }
   ],
   "source": [
    "h_data.columns"
   ]
  },
  {
   "cell_type": "markdown",
   "id": "b89d4c2b",
   "metadata": {},
   "source": [
    "##  Information about the dataset"
   ]
  },
  {
   "cell_type": "code",
   "execution_count": 8,
   "id": "4ff939a9",
   "metadata": {
    "scrolled": true
   },
   "outputs": [
    {
     "name": "stdout",
     "output_type": "stream",
     "text": [
      "<class 'pandas.core.frame.DataFrame'>\n",
      "RangeIndex: 83573 entries, 0 to 83572\n",
      "Data columns (total 32 columns):\n",
      " #   Column                          Non-Null Count  Dtype  \n",
      "---  ------                          --------------  -----  \n",
      " 0   hotel                           83573 non-null  object \n",
      " 1   is_canceled                     83573 non-null  int64  \n",
      " 2   lead_time                       83573 non-null  int64  \n",
      " 3   arrival_date_year               83573 non-null  int64  \n",
      " 4   arrival_date_month              83573 non-null  object \n",
      " 5   arrival_date_week_number        83573 non-null  int64  \n",
      " 6   arrival_date_day_of_month       83573 non-null  int64  \n",
      " 7   stays_in_weekend_nights         83573 non-null  int64  \n",
      " 8   stays_in_week_nights            83573 non-null  int64  \n",
      " 9   adults                          83573 non-null  int64  \n",
      " 10  children                        83571 non-null  float64\n",
      " 11  babies                          83573 non-null  int64  \n",
      " 12  meal                            83573 non-null  object \n",
      " 13  country                         83244 non-null  object \n",
      " 14  market_segment                  83573 non-null  object \n",
      " 15  distribution_channel            83573 non-null  object \n",
      " 16  is_repeated_guest               83573 non-null  int64  \n",
      " 17  previous_cancellations          83573 non-null  int64  \n",
      " 18  previous_bookings_not_canceled  83573 non-null  int64  \n",
      " 19  reserved_room_type              83573 non-null  object \n",
      " 20  assigned_room_type              83573 non-null  object \n",
      " 21  booking_changes                 83573 non-null  int64  \n",
      " 22  deposit_type                    83573 non-null  object \n",
      " 23  agent                           72213 non-null  float64\n",
      " 24  company                         4703 non-null   float64\n",
      " 25  days_in_waiting_list            83573 non-null  int64  \n",
      " 26  customer_type                   83573 non-null  object \n",
      " 27  adr                             83573 non-null  float64\n",
      " 28  required_car_parking_spaces     83573 non-null  int64  \n",
      " 29  total_of_special_requests       83573 non-null  int64  \n",
      " 30  reservation_status              83573 non-null  object \n",
      " 31  reservation_status_date         83573 non-null  object \n",
      "dtypes: float64(4), int64(16), object(12)\n",
      "memory usage: 20.4+ MB\n"
     ]
    }
   ],
   "source": [
    "h_data.info()"
   ]
  },
  {
   "cell_type": "markdown",
   "id": "a4ea6156",
   "metadata": {},
   "source": [
    "## Checking for null values"
   ]
  },
  {
   "cell_type": "code",
   "execution_count": 9,
   "id": "fbb8c985",
   "metadata": {},
   "outputs": [
    {
     "data": {
      "text/plain": [
       "company                   78870\n",
       "agent                     11360\n",
       "country                     329\n",
       "children                      2\n",
       "reserved_room_type            0\n",
       "assigned_room_type            0\n",
       "booking_changes               0\n",
       "deposit_type                  0\n",
       "hotel                         0\n",
       "previous_cancellations        0\n",
       "dtype: int64"
      ]
     },
     "execution_count": 9,
     "metadata": {},
     "output_type": "execute_result"
    }
   ],
   "source": [
    "h_data.isnull().sum().sort_values(ascending=False)[:10]"
   ]
  },
  {
   "cell_type": "markdown",
   "id": "ef39d43e",
   "metadata": {},
   "source": [
    "## Fill in missing/null values"
   ]
  },
  {
   "cell_type": "code",
   "execution_count": 10,
   "id": "206051cf",
   "metadata": {},
   "outputs": [],
   "source": [
    "## Drop Rows where there is no adult, baby and child\n",
    "\n",
    "h_data = h_data.drop(h_data[(h_data.adults+h_data.babies+h_data.children)==0].index)"
   ]
  },
  {
   "cell_type": "markdown",
   "id": "f26e25d8",
   "metadata": {},
   "source": [
    "`missing values in the 'agent' and 'company' columns of the 'h_data' dataframe. The code uses the fillna() method from pandas to replace any null values in these columns with the value 0.0.`"
   ]
  },
  {
   "cell_type": "code",
   "execution_count": 11,
   "id": "dd279639",
   "metadata": {},
   "outputs": [],
   "source": [
    "## If no id of agent or company is null, just replace it with 0\n",
    "\n",
    "h_data[['agent','company']] = h_data[['agent','company']].fillna(0.0)"
   ]
  },
  {
   "cell_type": "code",
   "execution_count": 12,
   "id": "5682e98a",
   "metadata": {},
   "outputs": [],
   "source": [
    "## For the missing values in the country column, replace it with mode (value that appears most often)\n",
    "\n",
    "h_data['country'].fillna(h_data.country.mode().to_string(), inplace=True)"
   ]
  },
  {
   "cell_type": "code",
   "execution_count": 13,
   "id": "0b35df0a",
   "metadata": {},
   "outputs": [],
   "source": [
    "## for missing children value, replace it with rounded mean value\n",
    "\n",
    "h_data['children'].fillna(round(h_data.children.mean()), inplace=True)"
   ]
  },
  {
   "cell_type": "code",
   "execution_count": 14,
   "id": "9cbf3638",
   "metadata": {
    "scrolled": true
   },
   "outputs": [
    {
     "data": {
      "text/plain": [
       "hotel                          0\n",
       "is_canceled                    0\n",
       "reservation_status             0\n",
       "total_of_special_requests      0\n",
       "required_car_parking_spaces    0\n",
       "adr                            0\n",
       "customer_type                  0\n",
       "days_in_waiting_list           0\n",
       "company                        0\n",
       "agent                          0\n",
       "dtype: int64"
      ]
     },
     "execution_count": 14,
     "metadata": {},
     "output_type": "execute_result"
    }
   ],
   "source": [
    "h_data.isnull().sum().sort_values(ascending=False)[:10]"
   ]
  },
  {
   "cell_type": "markdown",
   "id": "d7c81ab4",
   "metadata": {},
   "source": [
    "<div class=\"alert alert-info\"> \n",
    "    hence the null and missing values are rectified\n",
    "    </div>"
   ]
  },
  {
   "cell_type": "markdown",
   "id": "0a3819c5",
   "metadata": {},
   "source": [
    "## Checking for duplicate rows"
   ]
  },
  {
   "cell_type": "code",
   "execution_count": 15,
   "id": "97d26aed",
   "metadata": {},
   "outputs": [
    {
     "data": {
      "text/plain": [
       "(83443, 32)"
      ]
     },
     "execution_count": 15,
     "metadata": {},
     "output_type": "execute_result"
    }
   ],
   "source": [
    "## we got total number of rows,columns\n",
    "h_data.shape"
   ]
  },
  {
   "cell_type": "markdown",
   "id": "e2a9353c",
   "metadata": {},
   "source": [
    "` The duplicated() function is applied to the h_data DataFrame, which checks each row and returns a boolean Series indicating whether each row is a duplicate or not. Only the duplicate rows are selected and stored in the duplicate_rows_df variable.`"
   ]
  },
  {
   "cell_type": "code",
   "execution_count": 16,
   "id": "393a2243",
   "metadata": {},
   "outputs": [
    {
     "name": "stdout",
     "output_type": "stream",
     "text": [
      "number of duplicate rows:  (20362, 32)\n"
     ]
    }
   ],
   "source": [
    "## that we have more duplicates we have no option so we drop the datas\n",
    "duplicate_rows_df = h_data[h_data.duplicated()]\n",
    "print(\"number of duplicate rows: \", duplicate_rows_df.shape)"
   ]
  },
  {
   "cell_type": "code",
   "execution_count": 17,
   "id": "cb8bb78c",
   "metadata": {},
   "outputs": [
    {
     "data": {
      "text/html": [
       "<div>\n",
       "<style scoped>\n",
       "    .dataframe tbody tr th:only-of-type {\n",
       "        vertical-align: middle;\n",
       "    }\n",
       "\n",
       "    .dataframe tbody tr th {\n",
       "        vertical-align: top;\n",
       "    }\n",
       "\n",
       "    .dataframe thead th {\n",
       "        text-align: right;\n",
       "    }\n",
       "</style>\n",
       "<table border=\"1\" class=\"dataframe\">\n",
       "  <thead>\n",
       "    <tr style=\"text-align: right;\">\n",
       "      <th></th>\n",
       "      <th>hotel</th>\n",
       "      <th>is_canceled</th>\n",
       "      <th>lead_time</th>\n",
       "      <th>arrival_date_year</th>\n",
       "      <th>arrival_date_month</th>\n",
       "      <th>arrival_date_week_number</th>\n",
       "      <th>arrival_date_day_of_month</th>\n",
       "      <th>stays_in_weekend_nights</th>\n",
       "      <th>stays_in_week_nights</th>\n",
       "      <th>adults</th>\n",
       "      <th>...</th>\n",
       "      <th>deposit_type</th>\n",
       "      <th>agent</th>\n",
       "      <th>company</th>\n",
       "      <th>days_in_waiting_list</th>\n",
       "      <th>customer_type</th>\n",
       "      <th>adr</th>\n",
       "      <th>required_car_parking_spaces</th>\n",
       "      <th>total_of_special_requests</th>\n",
       "      <th>reservation_status</th>\n",
       "      <th>reservation_status_date</th>\n",
       "    </tr>\n",
       "  </thead>\n",
       "  <tbody>\n",
       "    <tr>\n",
       "      <th>0</th>\n",
       "      <td>City Hotel</td>\n",
       "      <td>1</td>\n",
       "      <td>365</td>\n",
       "      <td>2015</td>\n",
       "      <td>October</td>\n",
       "      <td>42</td>\n",
       "      <td>17</td>\n",
       "      <td>1</td>\n",
       "      <td>1</td>\n",
       "      <td>2</td>\n",
       "      <td>...</td>\n",
       "      <td>Non Refund</td>\n",
       "      <td>1.0</td>\n",
       "      <td>0.0</td>\n",
       "      <td>0</td>\n",
       "      <td>Transient</td>\n",
       "      <td>62.8</td>\n",
       "      <td>0</td>\n",
       "      <td>0</td>\n",
       "      <td>Canceled</td>\n",
       "      <td>2015-01-30</td>\n",
       "    </tr>\n",
       "    <tr>\n",
       "      <th>1</th>\n",
       "      <td>Resort Hotel</td>\n",
       "      <td>1</td>\n",
       "      <td>94</td>\n",
       "      <td>2017</td>\n",
       "      <td>January</td>\n",
       "      <td>4</td>\n",
       "      <td>28</td>\n",
       "      <td>0</td>\n",
       "      <td>1</td>\n",
       "      <td>2</td>\n",
       "      <td>...</td>\n",
       "      <td>No Deposit</td>\n",
       "      <td>240.0</td>\n",
       "      <td>0.0</td>\n",
       "      <td>0</td>\n",
       "      <td>Transient</td>\n",
       "      <td>42.0</td>\n",
       "      <td>0</td>\n",
       "      <td>1</td>\n",
       "      <td>Canceled</td>\n",
       "      <td>2016-10-27</td>\n",
       "    </tr>\n",
       "    <tr>\n",
       "      <th>2</th>\n",
       "      <td>City Hotel</td>\n",
       "      <td>1</td>\n",
       "      <td>405</td>\n",
       "      <td>2016</td>\n",
       "      <td>August</td>\n",
       "      <td>34</td>\n",
       "      <td>18</td>\n",
       "      <td>0</td>\n",
       "      <td>2</td>\n",
       "      <td>2</td>\n",
       "      <td>...</td>\n",
       "      <td>Non Refund</td>\n",
       "      <td>1.0</td>\n",
       "      <td>0.0</td>\n",
       "      <td>0</td>\n",
       "      <td>Transient</td>\n",
       "      <td>62.0</td>\n",
       "      <td>0</td>\n",
       "      <td>0</td>\n",
       "      <td>Canceled</td>\n",
       "      <td>2015-10-21</td>\n",
       "    </tr>\n",
       "    <tr>\n",
       "      <th>3</th>\n",
       "      <td>City Hotel</td>\n",
       "      <td>0</td>\n",
       "      <td>5</td>\n",
       "      <td>2016</td>\n",
       "      <td>February</td>\n",
       "      <td>6</td>\n",
       "      <td>2</td>\n",
       "      <td>0</td>\n",
       "      <td>1</td>\n",
       "      <td>1</td>\n",
       "      <td>...</td>\n",
       "      <td>No Deposit</td>\n",
       "      <td>9.0</td>\n",
       "      <td>0.0</td>\n",
       "      <td>0</td>\n",
       "      <td>Transient</td>\n",
       "      <td>79.0</td>\n",
       "      <td>0</td>\n",
       "      <td>1</td>\n",
       "      <td>Check-Out</td>\n",
       "      <td>2016-02-03</td>\n",
       "    </tr>\n",
       "    <tr>\n",
       "      <th>4</th>\n",
       "      <td>City Hotel</td>\n",
       "      <td>1</td>\n",
       "      <td>46</td>\n",
       "      <td>2016</td>\n",
       "      <td>December</td>\n",
       "      <td>50</td>\n",
       "      <td>8</td>\n",
       "      <td>0</td>\n",
       "      <td>3</td>\n",
       "      <td>2</td>\n",
       "      <td>...</td>\n",
       "      <td>No Deposit</td>\n",
       "      <td>9.0</td>\n",
       "      <td>0.0</td>\n",
       "      <td>0</td>\n",
       "      <td>Transient</td>\n",
       "      <td>111.6</td>\n",
       "      <td>0</td>\n",
       "      <td>1</td>\n",
       "      <td>Canceled</td>\n",
       "      <td>2016-11-04</td>\n",
       "    </tr>\n",
       "  </tbody>\n",
       "</table>\n",
       "<p>5 rows × 32 columns</p>\n",
       "</div>"
      ],
      "text/plain": [
       "          hotel  is_canceled  lead_time  arrival_date_year arrival_date_month  \\\n",
       "0    City Hotel            1        365               2015            October   \n",
       "1  Resort Hotel            1         94               2017            January   \n",
       "2    City Hotel            1        405               2016             August   \n",
       "3    City Hotel            0          5               2016           February   \n",
       "4    City Hotel            1         46               2016           December   \n",
       "\n",
       "   arrival_date_week_number  arrival_date_day_of_month  \\\n",
       "0                        42                         17   \n",
       "1                         4                         28   \n",
       "2                        34                         18   \n",
       "3                         6                          2   \n",
       "4                        50                          8   \n",
       "\n",
       "   stays_in_weekend_nights  stays_in_week_nights  adults  ...  deposit_type  \\\n",
       "0                        1                     1       2  ...    Non Refund   \n",
       "1                        0                     1       2  ...    No Deposit   \n",
       "2                        0                     2       2  ...    Non Refund   \n",
       "3                        0                     1       1  ...    No Deposit   \n",
       "4                        0                     3       2  ...    No Deposit   \n",
       "\n",
       "   agent company days_in_waiting_list customer_type    adr  \\\n",
       "0    1.0     0.0                    0     Transient   62.8   \n",
       "1  240.0     0.0                    0     Transient   42.0   \n",
       "2    1.0     0.0                    0     Transient   62.0   \n",
       "3    9.0     0.0                    0     Transient   79.0   \n",
       "4    9.0     0.0                    0     Transient  111.6   \n",
       "\n",
       "   required_car_parking_spaces  total_of_special_requests  reservation_status  \\\n",
       "0                            0                          0            Canceled   \n",
       "1                            0                          1            Canceled   \n",
       "2                            0                          0            Canceled   \n",
       "3                            0                          1           Check-Out   \n",
       "4                            0                          1            Canceled   \n",
       "\n",
       "  reservation_status_date  \n",
       "0              2015-01-30  \n",
       "1              2016-10-27  \n",
       "2              2015-10-21  \n",
       "3              2016-02-03  \n",
       "4              2016-11-04  \n",
       "\n",
       "[5 rows x 32 columns]"
      ]
     },
     "execution_count": 17,
     "metadata": {},
     "output_type": "execute_result"
    }
   ],
   "source": [
    "## drop the duplicated values\n",
    "h_data = h_data.drop_duplicates()\n",
    "h_data.head(5)"
   ]
  },
  {
   "cell_type": "markdown",
   "id": "3c2f4d17",
   "metadata": {},
   "source": [
    "## convert datatype of these columns from float to integer"
   ]
  },
  {
   "cell_type": "code",
   "execution_count": 18,
   "id": "2d2ce2bf",
   "metadata": {
    "scrolled": true
   },
   "outputs": [
    {
     "name": "stdout",
     "output_type": "stream",
     "text": [
      "<class 'pandas.core.frame.DataFrame'>\n",
      "Int64Index: 63081 entries, 0 to 83572\n",
      "Data columns (total 32 columns):\n",
      " #   Column                          Non-Null Count  Dtype  \n",
      "---  ------                          --------------  -----  \n",
      " 0   hotel                           63081 non-null  object \n",
      " 1   is_canceled                     63081 non-null  int64  \n",
      " 2   lead_time                       63081 non-null  int64  \n",
      " 3   arrival_date_year               63081 non-null  int64  \n",
      " 4   arrival_date_month              63081 non-null  object \n",
      " 5   arrival_date_week_number        63081 non-null  int64  \n",
      " 6   arrival_date_day_of_month       63081 non-null  int64  \n",
      " 7   stays_in_weekend_nights         63081 non-null  int64  \n",
      " 8   stays_in_week_nights            63081 non-null  int64  \n",
      " 9   adults                          63081 non-null  int64  \n",
      " 10  children                        63081 non-null  float64\n",
      " 11  babies                          63081 non-null  int64  \n",
      " 12  meal                            63081 non-null  object \n",
      " 13  country                         63081 non-null  object \n",
      " 14  market_segment                  63081 non-null  object \n",
      " 15  distribution_channel            63081 non-null  object \n",
      " 16  is_repeated_guest               63081 non-null  int64  \n",
      " 17  previous_cancellations          63081 non-null  int64  \n",
      " 18  previous_bookings_not_canceled  63081 non-null  int64  \n",
      " 19  reserved_room_type              63081 non-null  object \n",
      " 20  assigned_room_type              63081 non-null  object \n",
      " 21  booking_changes                 63081 non-null  int64  \n",
      " 22  deposit_type                    63081 non-null  object \n",
      " 23  agent                           63081 non-null  float64\n",
      " 24  company                         63081 non-null  float64\n",
      " 25  days_in_waiting_list            63081 non-null  int64  \n",
      " 26  customer_type                   63081 non-null  object \n",
      " 27  adr                             63081 non-null  float64\n",
      " 28  required_car_parking_spaces     63081 non-null  int64  \n",
      " 29  total_of_special_requests       63081 non-null  int64  \n",
      " 30  reservation_status              63081 non-null  object \n",
      " 31  reservation_status_date         63081 non-null  object \n",
      "dtypes: float64(4), int64(16), object(12)\n",
      "memory usage: 15.9+ MB\n"
     ]
    }
   ],
   "source": [
    "h_data.info()"
   ]
  },
  {
   "cell_type": "markdown",
   "id": "d0a5908d",
   "metadata": {},
   "source": [
    "` converting the data types of three columns ('children', 'company', and 'agent') in the 'h_data' dataframe to 'int64'.`"
   ]
  },
  {
   "cell_type": "code",
   "execution_count": 19,
   "id": "5054dc2b",
   "metadata": {},
   "outputs": [],
   "source": [
    "h_data [['children', 'company', 'agent']] = h_data [['children', 'company', 'agent']].astype('int64')"
   ]
  },
  {
   "cell_type": "markdown",
   "id": "48e0d873",
   "metadata": {},
   "source": [
    "# split the data train, test"
   ]
  },
  {
   "cell_type": "code",
   "execution_count": 20,
   "id": "4ee91e0b",
   "metadata": {},
   "outputs": [],
   "source": [
    "## take a copy of data(for good practice)\n",
    "hotel_data_copy=h_data.copy()"
   ]
  },
  {
   "cell_type": "code",
   "execution_count": 21,
   "id": "c03db94a",
   "metadata": {},
   "outputs": [],
   "source": [
    "# Target and labels\n",
    "y =hotel_data_copy['is_canceled'].copy()\n",
    "X =hotel_data_copy.drop('is_canceled',axis=1).copy()\n",
    "\n",
    "X_train,X_test,y_train,y_test= train_test_split(X,y, train_size=0.7, shuffle=True , random_state=123)"
   ]
  },
  {
   "cell_type": "markdown",
   "id": "787638dd",
   "metadata": {},
   "source": [
    "` It separates the target variable and the labels from the data. The target variable is copied into the variable y, and the remaining features are copied into the variable X. The target variable is the column named 'is_canceled', and it represents whether a hotel booking was canceled or not.`\n",
    "\n",
    "`It splits the data into training and testing sets using the train_test_split function from the scikit-learn library. The X and y variables are split into X_train, X_test, y_train, and y_test with a train size of 0.7 (70% of the data) and a random state of 123 for reproducibility. The shuffle parameter is set to True to shuffle the data before splitting.`"
   ]
  },
  {
   "cell_type": "code",
   "execution_count": 22,
   "id": "eb5a021a",
   "metadata": {},
   "outputs": [],
   "source": [
    "##  storeing data in csv(comma seperated values) file.\n",
    "X_train.to_csv('hotel_data/train/train_splited_X,y/x_train.csv',index=False)\n",
    "y_train.to_csv('hotel_data/train/train_splited_X,y/y_train.csv',index=False)\n",
    "\n",
    "X_test.to_csv('hotel_data/evaluate/x_test.csv',index=False)\n",
    "y_test.to_csv('hotel_data/evaluate/y_test.csv',index=False)"
   ]
  },
  {
   "cell_type": "markdown",
   "id": "5aa2f338",
   "metadata": {},
   "source": [
    " `It saves the training data (X_train and y_train) into separate CSV files named 'train_splited_X,y/x_train.csv' and 'train_splited_X,y/y_train.csv' respectively, under the 'hotel_data/train' directory. The testing data (X_test and y_test) is saved into CSV files named 'x_test.csv' and 'y_test.csv' respectively, under the 'hotel_data/evaluate' directory.`"
   ]
  },
  {
   "cell_type": "markdown",
   "id": "14ed66b2",
   "metadata": {},
   "source": [
    "# Feature Encoding"
   ]
  },
  {
   "cell_type": "markdown",
   "id": "07b1ae65",
   "metadata": {},
   "source": [
    " `As we all know that better encoding leads to a better model and most algorithms cannot handle the categorical variables unless they are converted into a numerical value`"
   ]
  },
  {
   "cell_type": "code",
   "execution_count": 23,
   "id": "322f678c",
   "metadata": {},
   "outputs": [],
   "source": [
    "## load ordinalencoder as encoder\n",
    "encoder =OrdinalEncoder(handle_unknown='use_encoded_value', unknown_value=-1)\n",
    "## The code initializes an OrdinalEncoder object named encoder. \n",
    "## This encoder will be used to convert categorical variables into numerical values. \n",
    "## The handle_unknown parameter is set to 'use_encoded_value',\n",
    "## which means that if unknown categories are encountered during encoding,\n",
    "## they will be assigned a value based on the unknown_value parameter, which is set to -1 in this case."
   ]
  },
  {
   "cell_type": "code",
   "execution_count": 24,
   "id": "237927ec",
   "metadata": {},
   "outputs": [],
   "source": [
    "## fit and transform x train to encoder to perform the encoding process\n",
    "## The code initializes an OrdinalEncoder object named encoder.\n",
    "## This encoder is used to convert categorical variables into numerical values.\n",
    "X_encode=encoder.fit(X_train)\n",
    "\n",
    "## dump the encode model using joblimb as pkl file\n",
    "jb.dump(X_encode,'hotel_data/train/model/train_encode_model.pkl')\n",
    "\n",
    "X_encode=encoder.transform(X_train)\n",
    "\n",
    "## After saving the encoded model, \n",
    "## the code transforms the X_train data using the encoder again, \n",
    "## storing the transformed data in the variable X_train_encoded. \n",
    "## This step ensures that you have the encoded data in a DataFrame format.\n",
    "\n",
    "X_train_encoded=pd.DataFrame(X_encode, columns=X_train.columns)"
   ]
  },
  {
   "cell_type": "code",
   "execution_count": 25,
   "id": "200a6d72",
   "metadata": {
    "scrolled": true
   },
   "outputs": [
    {
     "data": {
      "text/html": [
       "<div>\n",
       "<style scoped>\n",
       "    .dataframe tbody tr th:only-of-type {\n",
       "        vertical-align: middle;\n",
       "    }\n",
       "\n",
       "    .dataframe tbody tr th {\n",
       "        vertical-align: top;\n",
       "    }\n",
       "\n",
       "    .dataframe thead th {\n",
       "        text-align: right;\n",
       "    }\n",
       "</style>\n",
       "<table border=\"1\" class=\"dataframe\">\n",
       "  <thead>\n",
       "    <tr style=\"text-align: right;\">\n",
       "      <th></th>\n",
       "      <th>hotel</th>\n",
       "      <th>lead_time</th>\n",
       "      <th>arrival_date_year</th>\n",
       "      <th>arrival_date_month</th>\n",
       "      <th>arrival_date_week_number</th>\n",
       "      <th>arrival_date_day_of_month</th>\n",
       "      <th>stays_in_weekend_nights</th>\n",
       "      <th>stays_in_week_nights</th>\n",
       "      <th>adults</th>\n",
       "      <th>children</th>\n",
       "      <th>...</th>\n",
       "      <th>deposit_type</th>\n",
       "      <th>agent</th>\n",
       "      <th>company</th>\n",
       "      <th>days_in_waiting_list</th>\n",
       "      <th>customer_type</th>\n",
       "      <th>adr</th>\n",
       "      <th>required_car_parking_spaces</th>\n",
       "      <th>total_of_special_requests</th>\n",
       "      <th>reservation_status</th>\n",
       "      <th>reservation_status_date</th>\n",
       "    </tr>\n",
       "  </thead>\n",
       "  <tbody>\n",
       "    <tr>\n",
       "      <th>0</th>\n",
       "      <td>0.0</td>\n",
       "      <td>79.0</td>\n",
       "      <td>2.0</td>\n",
       "      <td>0.0</td>\n",
       "      <td>14.0</td>\n",
       "      <td>10.0</td>\n",
       "      <td>0.0</td>\n",
       "      <td>3.0</td>\n",
       "      <td>1.0</td>\n",
       "      <td>0.0</td>\n",
       "      <td>...</td>\n",
       "      <td>0.0</td>\n",
       "      <td>7.0</td>\n",
       "      <td>0.0</td>\n",
       "      <td>0.0</td>\n",
       "      <td>2.0</td>\n",
       "      <td>1988.0</td>\n",
       "      <td>0.0</td>\n",
       "      <td>1.0</td>\n",
       "      <td>1.0</td>\n",
       "      <td>750.0</td>\n",
       "    </tr>\n",
       "    <tr>\n",
       "      <th>1</th>\n",
       "      <td>0.0</td>\n",
       "      <td>7.0</td>\n",
       "      <td>1.0</td>\n",
       "      <td>10.0</td>\n",
       "      <td>41.0</td>\n",
       "      <td>12.0</td>\n",
       "      <td>0.0</td>\n",
       "      <td>2.0</td>\n",
       "      <td>2.0</td>\n",
       "      <td>2.0</td>\n",
       "      <td>...</td>\n",
       "      <td>0.0</td>\n",
       "      <td>7.0</td>\n",
       "      <td>0.0</td>\n",
       "      <td>0.0</td>\n",
       "      <td>2.0</td>\n",
       "      <td>5748.0</td>\n",
       "      <td>0.0</td>\n",
       "      <td>1.0</td>\n",
       "      <td>1.0</td>\n",
       "      <td>569.0</td>\n",
       "    </tr>\n",
       "    <tr>\n",
       "      <th>2</th>\n",
       "      <td>1.0</td>\n",
       "      <td>3.0</td>\n",
       "      <td>1.0</td>\n",
       "      <td>8.0</td>\n",
       "      <td>18.0</td>\n",
       "      <td>3.0</td>\n",
       "      <td>0.0</td>\n",
       "      <td>3.0</td>\n",
       "      <td>2.0</td>\n",
       "      <td>0.0</td>\n",
       "      <td>...</td>\n",
       "      <td>0.0</td>\n",
       "      <td>163.0</td>\n",
       "      <td>0.0</td>\n",
       "      <td>0.0</td>\n",
       "      <td>2.0</td>\n",
       "      <td>1877.0</td>\n",
       "      <td>1.0</td>\n",
       "      <td>1.0</td>\n",
       "      <td>1.0</td>\n",
       "      <td>408.0</td>\n",
       "    </tr>\n",
       "    <tr>\n",
       "      <th>3</th>\n",
       "      <td>0.0</td>\n",
       "      <td>0.0</td>\n",
       "      <td>2.0</td>\n",
       "      <td>3.0</td>\n",
       "      <td>7.0</td>\n",
       "      <td>18.0</td>\n",
       "      <td>1.0</td>\n",
       "      <td>0.0</td>\n",
       "      <td>2.0</td>\n",
       "      <td>0.0</td>\n",
       "      <td>...</td>\n",
       "      <td>0.0</td>\n",
       "      <td>0.0</td>\n",
       "      <td>0.0</td>\n",
       "      <td>0.0</td>\n",
       "      <td>2.0</td>\n",
       "      <td>2538.0</td>\n",
       "      <td>0.0</td>\n",
       "      <td>0.0</td>\n",
       "      <td>1.0</td>\n",
       "      <td>697.0</td>\n",
       "    </tr>\n",
       "    <tr>\n",
       "      <th>4</th>\n",
       "      <td>1.0</td>\n",
       "      <td>212.0</td>\n",
       "      <td>1.0</td>\n",
       "      <td>0.0</td>\n",
       "      <td>15.0</td>\n",
       "      <td>10.0</td>\n",
       "      <td>2.0</td>\n",
       "      <td>5.0</td>\n",
       "      <td>2.0</td>\n",
       "      <td>0.0</td>\n",
       "      <td>...</td>\n",
       "      <td>1.0</td>\n",
       "      <td>183.0</td>\n",
       "      <td>0.0</td>\n",
       "      <td>0.0</td>\n",
       "      <td>2.0</td>\n",
       "      <td>1553.0</td>\n",
       "      <td>0.0</td>\n",
       "      <td>0.0</td>\n",
       "      <td>0.0</td>\n",
       "      <td>204.0</td>\n",
       "    </tr>\n",
       "  </tbody>\n",
       "</table>\n",
       "<p>5 rows × 31 columns</p>\n",
       "</div>"
      ],
      "text/plain": [
       "   hotel  lead_time  arrival_date_year  arrival_date_month  \\\n",
       "0    0.0       79.0                2.0                 0.0   \n",
       "1    0.0        7.0                1.0                10.0   \n",
       "2    1.0        3.0                1.0                 8.0   \n",
       "3    0.0        0.0                2.0                 3.0   \n",
       "4    1.0      212.0                1.0                 0.0   \n",
       "\n",
       "   arrival_date_week_number  arrival_date_day_of_month  \\\n",
       "0                      14.0                       10.0   \n",
       "1                      41.0                       12.0   \n",
       "2                      18.0                        3.0   \n",
       "3                       7.0                       18.0   \n",
       "4                      15.0                       10.0   \n",
       "\n",
       "   stays_in_weekend_nights  stays_in_week_nights  adults  children  ...  \\\n",
       "0                      0.0                   3.0     1.0       0.0  ...   \n",
       "1                      0.0                   2.0     2.0       2.0  ...   \n",
       "2                      0.0                   3.0     2.0       0.0  ...   \n",
       "3                      1.0                   0.0     2.0       0.0  ...   \n",
       "4                      2.0                   5.0     2.0       0.0  ...   \n",
       "\n",
       "   deposit_type  agent  company  days_in_waiting_list  customer_type     adr  \\\n",
       "0           0.0    7.0      0.0                   0.0            2.0  1988.0   \n",
       "1           0.0    7.0      0.0                   0.0            2.0  5748.0   \n",
       "2           0.0  163.0      0.0                   0.0            2.0  1877.0   \n",
       "3           0.0    0.0      0.0                   0.0            2.0  2538.0   \n",
       "4           1.0  183.0      0.0                   0.0            2.0  1553.0   \n",
       "\n",
       "   required_car_parking_spaces  total_of_special_requests  reservation_status  \\\n",
       "0                          0.0                        1.0                 1.0   \n",
       "1                          0.0                        1.0                 1.0   \n",
       "2                          1.0                        1.0                 1.0   \n",
       "3                          0.0                        0.0                 1.0   \n",
       "4                          0.0                        0.0                 0.0   \n",
       "\n",
       "   reservation_status_date  \n",
       "0                    750.0  \n",
       "1                    569.0  \n",
       "2                    408.0  \n",
       "3                    697.0  \n",
       "4                    204.0  \n",
       "\n",
       "[5 rows x 31 columns]"
      ]
     },
     "execution_count": 25,
     "metadata": {},
     "output_type": "execute_result"
    }
   ],
   "source": [
    "X_train_encoded.head(5)"
   ]
  },
  {
   "cell_type": "code",
   "execution_count": 26,
   "id": "dee0f1a9",
   "metadata": {},
   "outputs": [
    {
     "data": {
      "text/plain": [
       "68452    0\n",
       "10899    0\n",
       "52694    0\n",
       "45892    0\n",
       "7185     1\n",
       "Name: is_canceled, dtype: int64"
      ]
     },
     "execution_count": 26,
     "metadata": {},
     "output_type": "execute_result"
    }
   ],
   "source": [
    "y_train.head(5)"
   ]
  },
  {
   "cell_type": "markdown",
   "id": "fda9dc41",
   "metadata": {},
   "source": [
    "# feature_selection\n",
    " -`performing feature selection using the SelectKBest algorithm from the scikit-learn library. Feature selection helps to identify the most important features or variables that are relevant for the prediction task.`<br>\n",
    " -`These lines import the necessary modules for feature selection. SelectKBest is the class used for feature selection, and chi2 is the scoring function that will be used to evaluate the features.`"
   ]
  },
  {
   "cell_type": "code",
   "execution_count": 27,
   "id": "86daf76e",
   "metadata": {},
   "outputs": [],
   "source": [
    "from sklearn.feature_selection import SelectKBest\n",
    "from sklearn.feature_selection import chi2\n",
    "bestfeatures = SelectKBest(score_func=chi2, k=10)\n",
    "fit = bestfeatures.fit(X_train_encoded,y_train)"
   ]
  },
  {
   "cell_type": "markdown",
   "id": "6edb58a4",
   "metadata": {},
   "source": [
    "# This step responsible for displaying the top 10 features with their corresponding scores`"
   ]
  },
  {
   "cell_type": "code",
   "execution_count": 28,
   "id": "243d1c5a",
   "metadata": {},
   "outputs": [
    {
     "name": "stdout",
     "output_type": "stream",
     "text": [
      "                     good_features          Score\n",
      "26                             adr  729118.573823\n",
      "1                        lead_time  143668.618608\n",
      "23                         company   32704.574621\n",
      "12                         country   11054.994805\n",
      "29              reservation_status    9935.975351\n",
      "30         reservation_status_date    6170.740256\n",
      "17  previous_bookings_not_canceled    1721.585976\n",
      "27     required_car_parking_spaces    1423.765161\n",
      "21                    deposit_type    1312.471634\n",
      "20                 booking_changes     728.110177\n"
     ]
    }
   ],
   "source": [
    "data_scores   = pd.DataFrame(fit.scores_)\n",
    "data_columns  = pd.DataFrame(X.columns)\n",
    "featureScores = pd.concat([data_columns,data_scores],axis=1)\n",
    "featureScores.columns = ['good_features','Score']  \n",
    "print(featureScores.nlargest(10,'Score'))  \n"
   ]
  },
  {
   "cell_type": "markdown",
   "id": "fa0549fe",
   "metadata": {},
   "source": [
    "## `now we got the good feature and score.`\n",
    "  next step we load the 10 largest score in a veriable"
   ]
  },
  {
   "cell_type": "code",
   "execution_count": 29,
   "id": "26e2b8d5",
   "metadata": {
    "scrolled": true
   },
   "outputs": [
    {
     "data": {
      "text/html": [
       "<div>\n",
       "<style scoped>\n",
       "    .dataframe tbody tr th:only-of-type {\n",
       "        vertical-align: middle;\n",
       "    }\n",
       "\n",
       "    .dataframe tbody tr th {\n",
       "        vertical-align: top;\n",
       "    }\n",
       "\n",
       "    .dataframe thead th {\n",
       "        text-align: right;\n",
       "    }\n",
       "</style>\n",
       "<table border=\"1\" class=\"dataframe\">\n",
       "  <thead>\n",
       "    <tr style=\"text-align: right;\">\n",
       "      <th></th>\n",
       "      <th>good_features</th>\n",
       "      <th>Score</th>\n",
       "    </tr>\n",
       "  </thead>\n",
       "  <tbody>\n",
       "    <tr>\n",
       "      <th>26</th>\n",
       "      <td>adr</td>\n",
       "      <td>729118.573823</td>\n",
       "    </tr>\n",
       "    <tr>\n",
       "      <th>1</th>\n",
       "      <td>lead_time</td>\n",
       "      <td>143668.618608</td>\n",
       "    </tr>\n",
       "    <tr>\n",
       "      <th>23</th>\n",
       "      <td>company</td>\n",
       "      <td>32704.574621</td>\n",
       "    </tr>\n",
       "    <tr>\n",
       "      <th>12</th>\n",
       "      <td>country</td>\n",
       "      <td>11054.994805</td>\n",
       "    </tr>\n",
       "    <tr>\n",
       "      <th>29</th>\n",
       "      <td>reservation_status</td>\n",
       "      <td>9935.975351</td>\n",
       "    </tr>\n",
       "    <tr>\n",
       "      <th>30</th>\n",
       "      <td>reservation_status_date</td>\n",
       "      <td>6170.740256</td>\n",
       "    </tr>\n",
       "    <tr>\n",
       "      <th>17</th>\n",
       "      <td>previous_bookings_not_canceled</td>\n",
       "      <td>1721.585976</td>\n",
       "    </tr>\n",
       "    <tr>\n",
       "      <th>27</th>\n",
       "      <td>required_car_parking_spaces</td>\n",
       "      <td>1423.765161</td>\n",
       "    </tr>\n",
       "    <tr>\n",
       "      <th>21</th>\n",
       "      <td>deposit_type</td>\n",
       "      <td>1312.471634</td>\n",
       "    </tr>\n",
       "    <tr>\n",
       "      <th>20</th>\n",
       "      <td>booking_changes</td>\n",
       "      <td>728.110177</td>\n",
       "    </tr>\n",
       "  </tbody>\n",
       "</table>\n",
       "</div>"
      ],
      "text/plain": [
       "                     good_features          Score\n",
       "26                             adr  729118.573823\n",
       "1                        lead_time  143668.618608\n",
       "23                         company   32704.574621\n",
       "12                         country   11054.994805\n",
       "29              reservation_status    9935.975351\n",
       "30         reservation_status_date    6170.740256\n",
       "17  previous_bookings_not_canceled    1721.585976\n",
       "27     required_car_parking_spaces    1423.765161\n",
       "21                    deposit_type    1312.471634\n",
       "20                 booking_changes     728.110177"
      ]
     },
     "execution_count": 29,
     "metadata": {},
     "output_type": "execute_result"
    }
   ],
   "source": [
    "feature=featureScores.nlargest(10,'Score')\n",
    "feature"
   ]
  },
  {
   "cell_type": "markdown",
   "id": "1f141735",
   "metadata": {},
   "source": [
    "## next we make concat good feature and the score`"
   ]
  },
  {
   "cell_type": "code",
   "execution_count": 30,
   "id": "e5f05936",
   "metadata": {},
   "outputs": [],
   "source": [
    "feature_list=feature['good_features'].to_list()"
   ]
  },
  {
   "cell_type": "code",
   "execution_count": 31,
   "id": "ffc8ed38",
   "metadata": {},
   "outputs": [
    {
     "data": {
      "text/plain": [
       "['adr',\n",
       " 'lead_time',\n",
       " 'company',\n",
       " 'country',\n",
       " 'reservation_status',\n",
       " 'reservation_status_date',\n",
       " 'previous_bookings_not_canceled',\n",
       " 'required_car_parking_spaces',\n",
       " 'deposit_type',\n",
       " 'booking_changes']"
      ]
     },
     "execution_count": 31,
     "metadata": {},
     "output_type": "execute_result"
    }
   ],
   "source": [
    "feature_list"
   ]
  },
  {
   "cell_type": "markdown",
   "id": "ef5512a7",
   "metadata": {},
   "source": [
    " `The pickled file allows you to store Python objects, such as the feature_list variable, in a serialized format, which can be loaded and used later. This can be helpful when you want to save and load variables or models for future use without having to recompute them.`"
   ]
  },
  {
   "cell_type": "code",
   "execution_count": 32,
   "id": "6a9cc59d",
   "metadata": {},
   "outputs": [
    {
     "data": {
      "text/plain": [
       "['hotel_data/train/model/featureselected_model.pkl']"
      ]
     },
     "execution_count": 32,
     "metadata": {},
     "output_type": "execute_result"
    }
   ],
   "source": [
    "import joblib as jb\n",
    "jb.dump(feature_list,'hotel_data/train/model/featureselected_model.pkl')"
   ]
  },
  {
   "cell_type": "code",
   "execution_count": 33,
   "id": "15cd03d6",
   "metadata": {},
   "outputs": [
    {
     "data": {
      "text/html": [
       "<div>\n",
       "<style scoped>\n",
       "    .dataframe tbody tr th:only-of-type {\n",
       "        vertical-align: middle;\n",
       "    }\n",
       "\n",
       "    .dataframe tbody tr th {\n",
       "        vertical-align: top;\n",
       "    }\n",
       "\n",
       "    .dataframe thead th {\n",
       "        text-align: right;\n",
       "    }\n",
       "</style>\n",
       "<table border=\"1\" class=\"dataframe\">\n",
       "  <thead>\n",
       "    <tr style=\"text-align: right;\">\n",
       "      <th></th>\n",
       "      <th>adr</th>\n",
       "      <th>lead_time</th>\n",
       "      <th>company</th>\n",
       "      <th>country</th>\n",
       "      <th>reservation_status</th>\n",
       "      <th>reservation_status_date</th>\n",
       "      <th>previous_bookings_not_canceled</th>\n",
       "      <th>required_car_parking_spaces</th>\n",
       "      <th>deposit_type</th>\n",
       "      <th>booking_changes</th>\n",
       "    </tr>\n",
       "  </thead>\n",
       "  <tbody>\n",
       "    <tr>\n",
       "      <th>0</th>\n",
       "      <td>1988.0</td>\n",
       "      <td>79.0</td>\n",
       "      <td>0.0</td>\n",
       "      <td>49.0</td>\n",
       "      <td>1.0</td>\n",
       "      <td>750.0</td>\n",
       "      <td>0.0</td>\n",
       "      <td>0.0</td>\n",
       "      <td>0.0</td>\n",
       "      <td>0.0</td>\n",
       "    </tr>\n",
       "    <tr>\n",
       "      <th>1</th>\n",
       "      <td>5748.0</td>\n",
       "      <td>7.0</td>\n",
       "      <td>0.0</td>\n",
       "      <td>54.0</td>\n",
       "      <td>1.0</td>\n",
       "      <td>569.0</td>\n",
       "      <td>0.0</td>\n",
       "      <td>0.0</td>\n",
       "      <td>0.0</td>\n",
       "      <td>0.0</td>\n",
       "    </tr>\n",
       "    <tr>\n",
       "      <th>2</th>\n",
       "      <td>1877.0</td>\n",
       "      <td>3.0</td>\n",
       "      <td>0.0</td>\n",
       "      <td>125.0</td>\n",
       "      <td>1.0</td>\n",
       "      <td>408.0</td>\n",
       "      <td>0.0</td>\n",
       "      <td>1.0</td>\n",
       "      <td>0.0</td>\n",
       "      <td>1.0</td>\n",
       "    </tr>\n",
       "    <tr>\n",
       "      <th>3</th>\n",
       "      <td>2538.0</td>\n",
       "      <td>0.0</td>\n",
       "      <td>0.0</td>\n",
       "      <td>125.0</td>\n",
       "      <td>1.0</td>\n",
       "      <td>697.0</td>\n",
       "      <td>0.0</td>\n",
       "      <td>0.0</td>\n",
       "      <td>0.0</td>\n",
       "      <td>0.0</td>\n",
       "    </tr>\n",
       "    <tr>\n",
       "      <th>4</th>\n",
       "      <td>1553.0</td>\n",
       "      <td>212.0</td>\n",
       "      <td>0.0</td>\n",
       "      <td>125.0</td>\n",
       "      <td>0.0</td>\n",
       "      <td>204.0</td>\n",
       "      <td>0.0</td>\n",
       "      <td>0.0</td>\n",
       "      <td>1.0</td>\n",
       "      <td>0.0</td>\n",
       "    </tr>\n",
       "    <tr>\n",
       "      <th>...</th>\n",
       "      <td>...</td>\n",
       "      <td>...</td>\n",
       "      <td>...</td>\n",
       "      <td>...</td>\n",
       "      <td>...</td>\n",
       "      <td>...</td>\n",
       "      <td>...</td>\n",
       "      <td>...</td>\n",
       "      <td>...</td>\n",
       "      <td>...</td>\n",
       "    </tr>\n",
       "    <tr>\n",
       "      <th>44151</th>\n",
       "      <td>5923.0</td>\n",
       "      <td>110.0</td>\n",
       "      <td>0.0</td>\n",
       "      <td>73.0</td>\n",
       "      <td>0.0</td>\n",
       "      <td>733.0</td>\n",
       "      <td>0.0</td>\n",
       "      <td>0.0</td>\n",
       "      <td>0.0</td>\n",
       "      <td>0.0</td>\n",
       "    </tr>\n",
       "    <tr>\n",
       "      <th>44152</th>\n",
       "      <td>47.0</td>\n",
       "      <td>8.0</td>\n",
       "      <td>0.0</td>\n",
       "      <td>125.0</td>\n",
       "      <td>1.0</td>\n",
       "      <td>316.0</td>\n",
       "      <td>0.0</td>\n",
       "      <td>0.0</td>\n",
       "      <td>0.0</td>\n",
       "      <td>0.0</td>\n",
       "    </tr>\n",
       "    <tr>\n",
       "      <th>44153</th>\n",
       "      <td>2192.0</td>\n",
       "      <td>301.0</td>\n",
       "      <td>0.0</td>\n",
       "      <td>128.0</td>\n",
       "      <td>1.0</td>\n",
       "      <td>494.0</td>\n",
       "      <td>0.0</td>\n",
       "      <td>0.0</td>\n",
       "      <td>0.0</td>\n",
       "      <td>1.0</td>\n",
       "    </tr>\n",
       "    <tr>\n",
       "      <th>44154</th>\n",
       "      <td>877.0</td>\n",
       "      <td>0.0</td>\n",
       "      <td>0.0</td>\n",
       "      <td>74.0</td>\n",
       "      <td>1.0</td>\n",
       "      <td>720.0</td>\n",
       "      <td>0.0</td>\n",
       "      <td>0.0</td>\n",
       "      <td>0.0</td>\n",
       "      <td>0.0</td>\n",
       "    </tr>\n",
       "    <tr>\n",
       "      <th>44155</th>\n",
       "      <td>2205.0</td>\n",
       "      <td>47.0</td>\n",
       "      <td>0.0</td>\n",
       "      <td>113.0</td>\n",
       "      <td>1.0</td>\n",
       "      <td>332.0</td>\n",
       "      <td>0.0</td>\n",
       "      <td>0.0</td>\n",
       "      <td>0.0</td>\n",
       "      <td>0.0</td>\n",
       "    </tr>\n",
       "  </tbody>\n",
       "</table>\n",
       "<p>44156 rows × 10 columns</p>\n",
       "</div>"
      ],
      "text/plain": [
       "          adr  lead_time  company  country  reservation_status  \\\n",
       "0      1988.0       79.0      0.0     49.0                 1.0   \n",
       "1      5748.0        7.0      0.0     54.0                 1.0   \n",
       "2      1877.0        3.0      0.0    125.0                 1.0   \n",
       "3      2538.0        0.0      0.0    125.0                 1.0   \n",
       "4      1553.0      212.0      0.0    125.0                 0.0   \n",
       "...       ...        ...      ...      ...                 ...   \n",
       "44151  5923.0      110.0      0.0     73.0                 0.0   \n",
       "44152    47.0        8.0      0.0    125.0                 1.0   \n",
       "44153  2192.0      301.0      0.0    128.0                 1.0   \n",
       "44154   877.0        0.0      0.0     74.0                 1.0   \n",
       "44155  2205.0       47.0      0.0    113.0                 1.0   \n",
       "\n",
       "       reservation_status_date  previous_bookings_not_canceled  \\\n",
       "0                        750.0                             0.0   \n",
       "1                        569.0                             0.0   \n",
       "2                        408.0                             0.0   \n",
       "3                        697.0                             0.0   \n",
       "4                        204.0                             0.0   \n",
       "...                        ...                             ...   \n",
       "44151                    733.0                             0.0   \n",
       "44152                    316.0                             0.0   \n",
       "44153                    494.0                             0.0   \n",
       "44154                    720.0                             0.0   \n",
       "44155                    332.0                             0.0   \n",
       "\n",
       "       required_car_parking_spaces  deposit_type  booking_changes  \n",
       "0                              0.0           0.0              0.0  \n",
       "1                              0.0           0.0              0.0  \n",
       "2                              1.0           0.0              1.0  \n",
       "3                              0.0           0.0              0.0  \n",
       "4                              0.0           1.0              0.0  \n",
       "...                            ...           ...              ...  \n",
       "44151                          0.0           0.0              0.0  \n",
       "44152                          0.0           0.0              0.0  \n",
       "44153                          0.0           0.0              1.0  \n",
       "44154                          0.0           0.0              0.0  \n",
       "44155                          0.0           0.0              0.0  \n",
       "\n",
       "[44156 rows x 10 columns]"
      ]
     },
     "execution_count": 33,
     "metadata": {},
     "output_type": "execute_result"
    }
   ],
   "source": [
    "featuer_selected=X_train_encoded[feature_list]\n",
    "featuer_selected"
   ]
  },
  {
   "cell_type": "code",
   "execution_count": 34,
   "id": "0a4eca66",
   "metadata": {},
   "outputs": [],
   "source": [
    "featuer_selected.to_csv('hotel_data/train/processed/featureSelected_X_train.csv',index=False)"
   ]
  },
  {
   "cell_type": "markdown",
   "id": "14603ca8",
   "metadata": {},
   "source": [
    "#  Model Training"
   ]
  },
  {
   "cell_type": "code",
   "execution_count": 35,
   "id": "b1bf0b1e",
   "metadata": {},
   "outputs": [],
   "source": [
    "from sklearn.linear_model import LogisticRegression\n",
    "from sklearn.tree import DecisionTreeClassifier"
   ]
  },
  {
   "cell_type": "code",
   "execution_count": 36,
   "id": "07cb90a8",
   "metadata": {},
   "outputs": [
    {
     "name": "stdout",
     "output_type": "stream",
     "text": [
      "Train score: 98.41924087326751\n"
     ]
    }
   ],
   "source": [
    "lor=LogisticRegression()\n",
    "lor.fit(featuer_selected,y_train)\n",
    "start = time()\n",
    "end= time()\n",
    "print('Train score:',lor.score(featuer_selected,y_train)* 100)\n"
   ]
  },
  {
   "cell_type": "code",
   "execution_count": 37,
   "id": "78cac522",
   "metadata": {
    "scrolled": true
   },
   "outputs": [
    {
     "name": "stdout",
     "output_type": "stream",
     "text": [
      "Train score: 100.0\n"
     ]
    }
   ],
   "source": [
    "tree_clf = DecisionTreeClassifier(criterion='entropy',max_depth=2)\n",
    "tree_clf.fit(featuer_selected,y_train)\n",
    "start=time()\n",
    "end=time()\n",
    "\n",
    "print('Train score:',tree_clf.score(featuer_selected,y_train)* 100)\n"
   ]
  },
  {
   "cell_type": "code",
   "execution_count": 38,
   "id": "86b03b21",
   "metadata": {},
   "outputs": [
    {
     "name": "stdout",
     "output_type": "stream",
     "text": [
      "Train score: 100.0\n",
      "Train score: 100.0\n"
     ]
    }
   ],
   "source": [
    "parameters = {\n",
    "    \"criterion\": [\"gini\", \"entropy\"],\n",
    "    \"max_depth\": [2, 4, 8, 16, 32],\n",
    "    \"min_samples_split\": [2, 4, 8, 16, 32],\n",
    "    \"min_samples_leaf\": [2, 4, 8, 16, 32]\n",
    "}\n",
    "\n",
    "dt_cv = GridSearchCV(DecisionTreeClassifier(), parameters, cv=5)\n",
    "dt_cv.fit(featuer_selected,y_train)\n",
    "\n",
    "dt = dt_cv.best_estimator_\n",
    "dt.fit(featuer_selected,y_train)\n",
    "\n",
    "print('Train score:',dt.score(featuer_selected,y_train)* 100)\n",
    "print('Train score:',dt_cv.score(featuer_selected,y_train)* 100)"
   ]
  },
  {
   "cell_type": "code",
   "execution_count": 39,
   "id": "c039b6d0",
   "metadata": {},
   "outputs": [
    {
     "data": {
      "text/html": [
       "<style>#sk-container-id-1 {color: black;}#sk-container-id-1 pre{padding: 0;}#sk-container-id-1 div.sk-toggleable {background-color: white;}#sk-container-id-1 label.sk-toggleable__label {cursor: pointer;display: block;width: 100%;margin-bottom: 0;padding: 0.3em;box-sizing: border-box;text-align: center;}#sk-container-id-1 label.sk-toggleable__label-arrow:before {content: \"▸\";float: left;margin-right: 0.25em;color: #696969;}#sk-container-id-1 label.sk-toggleable__label-arrow:hover:before {color: black;}#sk-container-id-1 div.sk-estimator:hover label.sk-toggleable__label-arrow:before {color: black;}#sk-container-id-1 div.sk-toggleable__content {max-height: 0;max-width: 0;overflow: hidden;text-align: left;background-color: #f0f8ff;}#sk-container-id-1 div.sk-toggleable__content pre {margin: 0.2em;color: black;border-radius: 0.25em;background-color: #f0f8ff;}#sk-container-id-1 input.sk-toggleable__control:checked~div.sk-toggleable__content {max-height: 200px;max-width: 100%;overflow: auto;}#sk-container-id-1 input.sk-toggleable__control:checked~label.sk-toggleable__label-arrow:before {content: \"▾\";}#sk-container-id-1 div.sk-estimator input.sk-toggleable__control:checked~label.sk-toggleable__label {background-color: #d4ebff;}#sk-container-id-1 div.sk-label input.sk-toggleable__control:checked~label.sk-toggleable__label {background-color: #d4ebff;}#sk-container-id-1 input.sk-hidden--visually {border: 0;clip: rect(1px 1px 1px 1px);clip: rect(1px, 1px, 1px, 1px);height: 1px;margin: -1px;overflow: hidden;padding: 0;position: absolute;width: 1px;}#sk-container-id-1 div.sk-estimator {font-family: monospace;background-color: #f0f8ff;border: 1px dotted black;border-radius: 0.25em;box-sizing: border-box;margin-bottom: 0.5em;}#sk-container-id-1 div.sk-estimator:hover {background-color: #d4ebff;}#sk-container-id-1 div.sk-parallel-item::after {content: \"\";width: 100%;border-bottom: 1px solid gray;flex-grow: 1;}#sk-container-id-1 div.sk-label:hover label.sk-toggleable__label {background-color: #d4ebff;}#sk-container-id-1 div.sk-serial::before {content: \"\";position: absolute;border-left: 1px solid gray;box-sizing: border-box;top: 0;bottom: 0;left: 50%;z-index: 0;}#sk-container-id-1 div.sk-serial {display: flex;flex-direction: column;align-items: center;background-color: white;padding-right: 0.2em;padding-left: 0.2em;position: relative;}#sk-container-id-1 div.sk-item {position: relative;z-index: 1;}#sk-container-id-1 div.sk-parallel {display: flex;align-items: stretch;justify-content: center;background-color: white;position: relative;}#sk-container-id-1 div.sk-item::before, #sk-container-id-1 div.sk-parallel-item::before {content: \"\";position: absolute;border-left: 1px solid gray;box-sizing: border-box;top: 0;bottom: 0;left: 50%;z-index: -1;}#sk-container-id-1 div.sk-parallel-item {display: flex;flex-direction: column;z-index: 1;position: relative;background-color: white;}#sk-container-id-1 div.sk-parallel-item:first-child::after {align-self: flex-end;width: 50%;}#sk-container-id-1 div.sk-parallel-item:last-child::after {align-self: flex-start;width: 50%;}#sk-container-id-1 div.sk-parallel-item:only-child::after {width: 0;}#sk-container-id-1 div.sk-dashed-wrapped {border: 1px dashed gray;margin: 0 0.4em 0.5em 0.4em;box-sizing: border-box;padding-bottom: 0.4em;background-color: white;}#sk-container-id-1 div.sk-label label {font-family: monospace;font-weight: bold;display: inline-block;line-height: 1.2em;}#sk-container-id-1 div.sk-label-container {text-align: center;}#sk-container-id-1 div.sk-container {/* jupyter's `normalize.less` sets `[hidden] { display: none; }` but bootstrap.min.css set `[hidden] { display: none !important; }` so we also need the `!important` here to be able to override the default hidden behavior on the sphinx rendered scikit-learn.org. See: https://github.com/scikit-learn/scikit-learn/issues/21755 */display: inline-block !important;position: relative;}#sk-container-id-1 div.sk-text-repr-fallback {display: none;}</style><div id=\"sk-container-id-1\" class=\"sk-top-container\"><div class=\"sk-text-repr-fallback\"><pre>DecisionTreeClassifier(criterion=&#x27;entropy&#x27;, max_depth=2)</pre><b>In a Jupyter environment, please rerun this cell to show the HTML representation or trust the notebook. <br />On GitHub, the HTML representation is unable to render, please try loading this page with nbviewer.org.</b></div><div class=\"sk-container\" hidden><div class=\"sk-item\"><div class=\"sk-estimator sk-toggleable\"><input class=\"sk-toggleable__control sk-hidden--visually\" id=\"sk-estimator-id-1\" type=\"checkbox\" checked><label for=\"sk-estimator-id-1\" class=\"sk-toggleable__label sk-toggleable__label-arrow\">DecisionTreeClassifier</label><div class=\"sk-toggleable__content\"><pre>DecisionTreeClassifier(criterion=&#x27;entropy&#x27;, max_depth=2)</pre></div></div></div></div></div>"
      ],
      "text/plain": [
       "DecisionTreeClassifier(criterion='entropy', max_depth=2)"
      ]
     },
     "execution_count": 39,
     "metadata": {},
     "output_type": "execute_result"
    }
   ],
   "source": [
    "tree_clf"
   ]
  },
  {
   "cell_type": "markdown",
   "id": "aeae7cc1",
   "metadata": {},
   "source": [
    "<div class=\"alert alert-info\">\n",
    "   It appears to be a description or observation about the previous code. that several models were trained, but the \"DecisionTreeClassifier\" achieved a 100% training score and performed well with low latency time.\n",
    "  </div>"
   ]
  },
  {
   "cell_type": "code",
   "execution_count": 40,
   "id": "d980ad2e",
   "metadata": {},
   "outputs": [],
   "source": [
    "## we load it to joblib"
   ]
  },
  {
   "cell_type": "code",
   "execution_count": 41,
   "id": "ac8fb2eb",
   "metadata": {},
   "outputs": [
    {
     "data": {
      "text/plain": [
       "['hotel_data/train/model/tree_clf_model.pkl']"
      ]
     },
     "execution_count": 41,
     "metadata": {},
     "output_type": "execute_result"
    }
   ],
   "source": [
    "import joblib as jb\n",
    "jb.dump(tree_clf,'hotel_data/train/model/tree_clf_model.pkl')"
   ]
  },
  {
   "cell_type": "markdown",
   "id": "7af5f73f",
   "metadata": {},
   "source": [
    "## Prediction"
   ]
  },
  {
   "cell_type": "code",
   "execution_count": 42,
   "id": "32287c04",
   "metadata": {},
   "outputs": [],
   "source": [
    "##load x test and y test \n",
    "Feature_selection =jb.load('hotel_data/train/model/featureselected_model.pkl')"
   ]
  },
  {
   "cell_type": "code",
   "execution_count": 43,
   "id": "4e2ae324",
   "metadata": {},
   "outputs": [],
   "source": [
    "encode_model =jb.load('hotel_data/train/model/train_encode_model.pkl')"
   ]
  },
  {
   "cell_type": "code",
   "execution_count": 44,
   "id": "6f261b68",
   "metadata": {
    "scrolled": true
   },
   "outputs": [
    {
     "data": {
      "text/plain": [
       "['adr',\n",
       " 'lead_time',\n",
       " 'company',\n",
       " 'country',\n",
       " 'reservation_status',\n",
       " 'reservation_status_date',\n",
       " 'previous_bookings_not_canceled',\n",
       " 'required_car_parking_spaces',\n",
       " 'deposit_type',\n",
       " 'booking_changes']"
      ]
     },
     "execution_count": 44,
     "metadata": {},
     "output_type": "execute_result"
    }
   ],
   "source": [
    "model=jb.load('hotel_data/train/model/tree_clf_model.pkl')\n",
    "Feature_selection"
   ]
  },
  {
   "cell_type": "code",
   "execution_count": 45,
   "id": "c076ef39",
   "metadata": {
    "scrolled": true
   },
   "outputs": [
    {
     "data": {
      "text/html": [
       "<style>#sk-container-id-2 {color: black;}#sk-container-id-2 pre{padding: 0;}#sk-container-id-2 div.sk-toggleable {background-color: white;}#sk-container-id-2 label.sk-toggleable__label {cursor: pointer;display: block;width: 100%;margin-bottom: 0;padding: 0.3em;box-sizing: border-box;text-align: center;}#sk-container-id-2 label.sk-toggleable__label-arrow:before {content: \"▸\";float: left;margin-right: 0.25em;color: #696969;}#sk-container-id-2 label.sk-toggleable__label-arrow:hover:before {color: black;}#sk-container-id-2 div.sk-estimator:hover label.sk-toggleable__label-arrow:before {color: black;}#sk-container-id-2 div.sk-toggleable__content {max-height: 0;max-width: 0;overflow: hidden;text-align: left;background-color: #f0f8ff;}#sk-container-id-2 div.sk-toggleable__content pre {margin: 0.2em;color: black;border-radius: 0.25em;background-color: #f0f8ff;}#sk-container-id-2 input.sk-toggleable__control:checked~div.sk-toggleable__content {max-height: 200px;max-width: 100%;overflow: auto;}#sk-container-id-2 input.sk-toggleable__control:checked~label.sk-toggleable__label-arrow:before {content: \"▾\";}#sk-container-id-2 div.sk-estimator input.sk-toggleable__control:checked~label.sk-toggleable__label {background-color: #d4ebff;}#sk-container-id-2 div.sk-label input.sk-toggleable__control:checked~label.sk-toggleable__label {background-color: #d4ebff;}#sk-container-id-2 input.sk-hidden--visually {border: 0;clip: rect(1px 1px 1px 1px);clip: rect(1px, 1px, 1px, 1px);height: 1px;margin: -1px;overflow: hidden;padding: 0;position: absolute;width: 1px;}#sk-container-id-2 div.sk-estimator {font-family: monospace;background-color: #f0f8ff;border: 1px dotted black;border-radius: 0.25em;box-sizing: border-box;margin-bottom: 0.5em;}#sk-container-id-2 div.sk-estimator:hover {background-color: #d4ebff;}#sk-container-id-2 div.sk-parallel-item::after {content: \"\";width: 100%;border-bottom: 1px solid gray;flex-grow: 1;}#sk-container-id-2 div.sk-label:hover label.sk-toggleable__label {background-color: #d4ebff;}#sk-container-id-2 div.sk-serial::before {content: \"\";position: absolute;border-left: 1px solid gray;box-sizing: border-box;top: 0;bottom: 0;left: 50%;z-index: 0;}#sk-container-id-2 div.sk-serial {display: flex;flex-direction: column;align-items: center;background-color: white;padding-right: 0.2em;padding-left: 0.2em;position: relative;}#sk-container-id-2 div.sk-item {position: relative;z-index: 1;}#sk-container-id-2 div.sk-parallel {display: flex;align-items: stretch;justify-content: center;background-color: white;position: relative;}#sk-container-id-2 div.sk-item::before, #sk-container-id-2 div.sk-parallel-item::before {content: \"\";position: absolute;border-left: 1px solid gray;box-sizing: border-box;top: 0;bottom: 0;left: 50%;z-index: -1;}#sk-container-id-2 div.sk-parallel-item {display: flex;flex-direction: column;z-index: 1;position: relative;background-color: white;}#sk-container-id-2 div.sk-parallel-item:first-child::after {align-self: flex-end;width: 50%;}#sk-container-id-2 div.sk-parallel-item:last-child::after {align-self: flex-start;width: 50%;}#sk-container-id-2 div.sk-parallel-item:only-child::after {width: 0;}#sk-container-id-2 div.sk-dashed-wrapped {border: 1px dashed gray;margin: 0 0.4em 0.5em 0.4em;box-sizing: border-box;padding-bottom: 0.4em;background-color: white;}#sk-container-id-2 div.sk-label label {font-family: monospace;font-weight: bold;display: inline-block;line-height: 1.2em;}#sk-container-id-2 div.sk-label-container {text-align: center;}#sk-container-id-2 div.sk-container {/* jupyter's `normalize.less` sets `[hidden] { display: none; }` but bootstrap.min.css set `[hidden] { display: none !important; }` so we also need the `!important` here to be able to override the default hidden behavior on the sphinx rendered scikit-learn.org. See: https://github.com/scikit-learn/scikit-learn/issues/21755 */display: inline-block !important;position: relative;}#sk-container-id-2 div.sk-text-repr-fallback {display: none;}</style><div id=\"sk-container-id-2\" class=\"sk-top-container\"><div class=\"sk-text-repr-fallback\"><pre>OrdinalEncoder(handle_unknown=&#x27;use_encoded_value&#x27;, unknown_value=-1)</pre><b>In a Jupyter environment, please rerun this cell to show the HTML representation or trust the notebook. <br />On GitHub, the HTML representation is unable to render, please try loading this page with nbviewer.org.</b></div><div class=\"sk-container\" hidden><div class=\"sk-item\"><div class=\"sk-estimator sk-toggleable\"><input class=\"sk-toggleable__control sk-hidden--visually\" id=\"sk-estimator-id-2\" type=\"checkbox\" checked><label for=\"sk-estimator-id-2\" class=\"sk-toggleable__label sk-toggleable__label-arrow\">OrdinalEncoder</label><div class=\"sk-toggleable__content\"><pre>OrdinalEncoder(handle_unknown=&#x27;use_encoded_value&#x27;, unknown_value=-1)</pre></div></div></div></div></div>"
      ],
      "text/plain": [
       "OrdinalEncoder(handle_unknown='use_encoded_value', unknown_value=-1)"
      ]
     },
     "execution_count": 45,
     "metadata": {},
     "output_type": "execute_result"
    }
   ],
   "source": [
    "encode_model"
   ]
  },
  {
   "cell_type": "code",
   "execution_count": 46,
   "id": "186e846c",
   "metadata": {},
   "outputs": [
    {
     "data": {
      "text/html": [
       "<div>\n",
       "<style scoped>\n",
       "    .dataframe tbody tr th:only-of-type {\n",
       "        vertical-align: middle;\n",
       "    }\n",
       "\n",
       "    .dataframe tbody tr th {\n",
       "        vertical-align: top;\n",
       "    }\n",
       "\n",
       "    .dataframe thead th {\n",
       "        text-align: right;\n",
       "    }\n",
       "</style>\n",
       "<table border=\"1\" class=\"dataframe\">\n",
       "  <thead>\n",
       "    <tr style=\"text-align: right;\">\n",
       "      <th></th>\n",
       "      <th>hotel</th>\n",
       "      <th>lead_time</th>\n",
       "      <th>arrival_date_year</th>\n",
       "      <th>arrival_date_month</th>\n",
       "      <th>arrival_date_week_number</th>\n",
       "      <th>arrival_date_day_of_month</th>\n",
       "      <th>stays_in_weekend_nights</th>\n",
       "      <th>stays_in_week_nights</th>\n",
       "      <th>adults</th>\n",
       "      <th>children</th>\n",
       "      <th>...</th>\n",
       "      <th>deposit_type</th>\n",
       "      <th>agent</th>\n",
       "      <th>company</th>\n",
       "      <th>days_in_waiting_list</th>\n",
       "      <th>customer_type</th>\n",
       "      <th>adr</th>\n",
       "      <th>required_car_parking_spaces</th>\n",
       "      <th>total_of_special_requests</th>\n",
       "      <th>reservation_status</th>\n",
       "      <th>reservation_status_date</th>\n",
       "    </tr>\n",
       "  </thead>\n",
       "  <tbody>\n",
       "    <tr>\n",
       "      <th>0</th>\n",
       "      <td>0.0</td>\n",
       "      <td>1.0</td>\n",
       "      <td>2.0</td>\n",
       "      <td>6.0</td>\n",
       "      <td>24.0</td>\n",
       "      <td>17.0</td>\n",
       "      <td>1.0</td>\n",
       "      <td>0.0</td>\n",
       "      <td>2.0</td>\n",
       "      <td>0.0</td>\n",
       "      <td>...</td>\n",
       "      <td>0.0</td>\n",
       "      <td>9.0</td>\n",
       "      <td>0.0</td>\n",
       "      <td>0.0</td>\n",
       "      <td>2.0</td>\n",
       "      <td>4380.0</td>\n",
       "      <td>0.0</td>\n",
       "      <td>1.0</td>\n",
       "      <td>1.0</td>\n",
       "      <td>816.0</td>\n",
       "    </tr>\n",
       "    <tr>\n",
       "      <th>1</th>\n",
       "      <td>1.0</td>\n",
       "      <td>0.0</td>\n",
       "      <td>1.0</td>\n",
       "      <td>2.0</td>\n",
       "      <td>50.0</td>\n",
       "      <td>11.0</td>\n",
       "      <td>1.0</td>\n",
       "      <td>0.0</td>\n",
       "      <td>1.0</td>\n",
       "      <td>0.0</td>\n",
       "      <td>...</td>\n",
       "      <td>0.0</td>\n",
       "      <td>0.0</td>\n",
       "      <td>16.0</td>\n",
       "      <td>0.0</td>\n",
       "      <td>2.0</td>\n",
       "      <td>83.0</td>\n",
       "      <td>0.0</td>\n",
       "      <td>0.0</td>\n",
       "      <td>1.0</td>\n",
       "      <td>628.0</td>\n",
       "    </tr>\n",
       "    <tr>\n",
       "      <th>2</th>\n",
       "      <td>1.0</td>\n",
       "      <td>252.0</td>\n",
       "      <td>2.0</td>\n",
       "      <td>0.0</td>\n",
       "      <td>15.0</td>\n",
       "      <td>21.0</td>\n",
       "      <td>2.0</td>\n",
       "      <td>5.0</td>\n",
       "      <td>1.0</td>\n",
       "      <td>0.0</td>\n",
       "      <td>...</td>\n",
       "      <td>0.0</td>\n",
       "      <td>183.0</td>\n",
       "      <td>0.0</td>\n",
       "      <td>0.0</td>\n",
       "      <td>3.0</td>\n",
       "      <td>-1.0</td>\n",
       "      <td>0.0</td>\n",
       "      <td>0.0</td>\n",
       "      <td>1.0</td>\n",
       "      <td>765.0</td>\n",
       "    </tr>\n",
       "    <tr>\n",
       "      <th>3</th>\n",
       "      <td>0.0</td>\n",
       "      <td>6.0</td>\n",
       "      <td>2.0</td>\n",
       "      <td>7.0</td>\n",
       "      <td>12.0</td>\n",
       "      <td>29.0</td>\n",
       "      <td>0.0</td>\n",
       "      <td>1.0</td>\n",
       "      <td>2.0</td>\n",
       "      <td>0.0</td>\n",
       "      <td>...</td>\n",
       "      <td>0.0</td>\n",
       "      <td>9.0</td>\n",
       "      <td>0.0</td>\n",
       "      <td>0.0</td>\n",
       "      <td>2.0</td>\n",
       "      <td>3374.0</td>\n",
       "      <td>0.0</td>\n",
       "      <td>2.0</td>\n",
       "      <td>1.0</td>\n",
       "      <td>736.0</td>\n",
       "    </tr>\n",
       "    <tr>\n",
       "      <th>4</th>\n",
       "      <td>0.0</td>\n",
       "      <td>208.0</td>\n",
       "      <td>1.0</td>\n",
       "      <td>10.0</td>\n",
       "      <td>43.0</td>\n",
       "      <td>22.0</td>\n",
       "      <td>2.0</td>\n",
       "      <td>2.0</td>\n",
       "      <td>0.0</td>\n",
       "      <td>2.0</td>\n",
       "      <td>...</td>\n",
       "      <td>0.0</td>\n",
       "      <td>9.0</td>\n",
       "      <td>0.0</td>\n",
       "      <td>0.0</td>\n",
       "      <td>3.0</td>\n",
       "      <td>2138.0</td>\n",
       "      <td>0.0</td>\n",
       "      <td>2.0</td>\n",
       "      <td>1.0</td>\n",
       "      <td>581.0</td>\n",
       "    </tr>\n",
       "  </tbody>\n",
       "</table>\n",
       "<p>5 rows × 31 columns</p>\n",
       "</div>"
      ],
      "text/plain": [
       "   hotel  lead_time  arrival_date_year  arrival_date_month  \\\n",
       "0    0.0        1.0                2.0                 6.0   \n",
       "1    1.0        0.0                1.0                 2.0   \n",
       "2    1.0      252.0                2.0                 0.0   \n",
       "3    0.0        6.0                2.0                 7.0   \n",
       "4    0.0      208.0                1.0                10.0   \n",
       "\n",
       "   arrival_date_week_number  arrival_date_day_of_month  \\\n",
       "0                      24.0                       17.0   \n",
       "1                      50.0                       11.0   \n",
       "2                      15.0                       21.0   \n",
       "3                      12.0                       29.0   \n",
       "4                      43.0                       22.0   \n",
       "\n",
       "   stays_in_weekend_nights  stays_in_week_nights  adults  children  ...  \\\n",
       "0                      1.0                   0.0     2.0       0.0  ...   \n",
       "1                      1.0                   0.0     1.0       0.0  ...   \n",
       "2                      2.0                   5.0     1.0       0.0  ...   \n",
       "3                      0.0                   1.0     2.0       0.0  ...   \n",
       "4                      2.0                   2.0     0.0       2.0  ...   \n",
       "\n",
       "   deposit_type  agent  company  days_in_waiting_list  customer_type     adr  \\\n",
       "0           0.0    9.0      0.0                   0.0            2.0  4380.0   \n",
       "1           0.0    0.0     16.0                   0.0            2.0    83.0   \n",
       "2           0.0  183.0      0.0                   0.0            3.0    -1.0   \n",
       "3           0.0    9.0      0.0                   0.0            2.0  3374.0   \n",
       "4           0.0    9.0      0.0                   0.0            3.0  2138.0   \n",
       "\n",
       "   required_car_parking_spaces  total_of_special_requests  reservation_status  \\\n",
       "0                          0.0                        1.0                 1.0   \n",
       "1                          0.0                        0.0                 1.0   \n",
       "2                          0.0                        0.0                 1.0   \n",
       "3                          0.0                        2.0                 1.0   \n",
       "4                          0.0                        2.0                 1.0   \n",
       "\n",
       "   reservation_status_date  \n",
       "0                    816.0  \n",
       "1                    628.0  \n",
       "2                    765.0  \n",
       "3                    736.0  \n",
       "4                    581.0  \n",
       "\n",
       "[5 rows x 31 columns]"
      ]
     },
     "execution_count": 46,
     "metadata": {},
     "output_type": "execute_result"
    }
   ],
   "source": [
    "encode_data=encode_model.transform(X_test)\n",
    "encode_data=pd.DataFrame(encode_data, columns=X_test.columns)\n",
    "encode_data.head(5)"
   ]
  },
  {
   "cell_type": "code",
   "execution_count": 47,
   "id": "40533a04",
   "metadata": {},
   "outputs": [
    {
     "data": {
      "text/html": [
       "<div>\n",
       "<style scoped>\n",
       "    .dataframe tbody tr th:only-of-type {\n",
       "        vertical-align: middle;\n",
       "    }\n",
       "\n",
       "    .dataframe tbody tr th {\n",
       "        vertical-align: top;\n",
       "    }\n",
       "\n",
       "    .dataframe thead th {\n",
       "        text-align: right;\n",
       "    }\n",
       "</style>\n",
       "<table border=\"1\" class=\"dataframe\">\n",
       "  <thead>\n",
       "    <tr style=\"text-align: right;\">\n",
       "      <th></th>\n",
       "      <th>adr</th>\n",
       "      <th>lead_time</th>\n",
       "      <th>company</th>\n",
       "      <th>country</th>\n",
       "      <th>reservation_status</th>\n",
       "      <th>reservation_status_date</th>\n",
       "      <th>previous_bookings_not_canceled</th>\n",
       "      <th>required_car_parking_spaces</th>\n",
       "      <th>deposit_type</th>\n",
       "      <th>booking_changes</th>\n",
       "    </tr>\n",
       "  </thead>\n",
       "  <tbody>\n",
       "    <tr>\n",
       "      <th>0</th>\n",
       "      <td>4380.0</td>\n",
       "      <td>1.0</td>\n",
       "      <td>0.0</td>\n",
       "      <td>120.0</td>\n",
       "      <td>1.0</td>\n",
       "      <td>816.0</td>\n",
       "      <td>0.0</td>\n",
       "      <td>0.0</td>\n",
       "      <td>0.0</td>\n",
       "      <td>0.0</td>\n",
       "    </tr>\n",
       "    <tr>\n",
       "      <th>1</th>\n",
       "      <td>83.0</td>\n",
       "      <td>0.0</td>\n",
       "      <td>16.0</td>\n",
       "      <td>0.0</td>\n",
       "      <td>1.0</td>\n",
       "      <td>628.0</td>\n",
       "      <td>1.0</td>\n",
       "      <td>0.0</td>\n",
       "      <td>0.0</td>\n",
       "      <td>0.0</td>\n",
       "    </tr>\n",
       "    <tr>\n",
       "      <th>2</th>\n",
       "      <td>-1.0</td>\n",
       "      <td>252.0</td>\n",
       "      <td>0.0</td>\n",
       "      <td>54.0</td>\n",
       "      <td>1.0</td>\n",
       "      <td>765.0</td>\n",
       "      <td>0.0</td>\n",
       "      <td>0.0</td>\n",
       "      <td>0.0</td>\n",
       "      <td>3.0</td>\n",
       "    </tr>\n",
       "    <tr>\n",
       "      <th>3</th>\n",
       "      <td>3374.0</td>\n",
       "      <td>6.0</td>\n",
       "      <td>0.0</td>\n",
       "      <td>51.0</td>\n",
       "      <td>1.0</td>\n",
       "      <td>736.0</td>\n",
       "      <td>0.0</td>\n",
       "      <td>0.0</td>\n",
       "      <td>0.0</td>\n",
       "      <td>0.0</td>\n",
       "    </tr>\n",
       "    <tr>\n",
       "      <th>4</th>\n",
       "      <td>2138.0</td>\n",
       "      <td>208.0</td>\n",
       "      <td>0.0</td>\n",
       "      <td>54.0</td>\n",
       "      <td>1.0</td>\n",
       "      <td>581.0</td>\n",
       "      <td>0.0</td>\n",
       "      <td>0.0</td>\n",
       "      <td>0.0</td>\n",
       "      <td>3.0</td>\n",
       "    </tr>\n",
       "  </tbody>\n",
       "</table>\n",
       "</div>"
      ],
      "text/plain": [
       "      adr  lead_time  company  country  reservation_status  \\\n",
       "0  4380.0        1.0      0.0    120.0                 1.0   \n",
       "1    83.0        0.0     16.0      0.0                 1.0   \n",
       "2    -1.0      252.0      0.0     54.0                 1.0   \n",
       "3  3374.0        6.0      0.0     51.0                 1.0   \n",
       "4  2138.0      208.0      0.0     54.0                 1.0   \n",
       "\n",
       "   reservation_status_date  previous_bookings_not_canceled  \\\n",
       "0                    816.0                             0.0   \n",
       "1                    628.0                             1.0   \n",
       "2                    765.0                             0.0   \n",
       "3                    736.0                             0.0   \n",
       "4                    581.0                             0.0   \n",
       "\n",
       "   required_car_parking_spaces  deposit_type  booking_changes  \n",
       "0                          0.0           0.0              0.0  \n",
       "1                          0.0           0.0              0.0  \n",
       "2                          0.0           0.0              3.0  \n",
       "3                          0.0           0.0              0.0  \n",
       "4                          0.0           0.0              3.0  "
      ]
     },
     "execution_count": 47,
     "metadata": {},
     "output_type": "execute_result"
    }
   ],
   "source": [
    "featuer_selected=encode_data[Feature_selection]\n",
    "featuer_selected.head(5)"
   ]
  },
  {
   "cell_type": "code",
   "execution_count": 48,
   "id": "cbaf96e1",
   "metadata": {},
   "outputs": [
    {
     "data": {
      "text/html": [
       "<div>\n",
       "<style scoped>\n",
       "    .dataframe tbody tr th:only-of-type {\n",
       "        vertical-align: middle;\n",
       "    }\n",
       "\n",
       "    .dataframe tbody tr th {\n",
       "        vertical-align: top;\n",
       "    }\n",
       "\n",
       "    .dataframe thead th {\n",
       "        text-align: right;\n",
       "    }\n",
       "</style>\n",
       "<table border=\"1\" class=\"dataframe\">\n",
       "  <thead>\n",
       "    <tr style=\"text-align: right;\">\n",
       "      <th></th>\n",
       "      <th>0</th>\n",
       "    </tr>\n",
       "  </thead>\n",
       "  <tbody>\n",
       "    <tr>\n",
       "      <th>0</th>\n",
       "      <td>0</td>\n",
       "    </tr>\n",
       "    <tr>\n",
       "      <th>1</th>\n",
       "      <td>0</td>\n",
       "    </tr>\n",
       "    <tr>\n",
       "      <th>2</th>\n",
       "      <td>0</td>\n",
       "    </tr>\n",
       "    <tr>\n",
       "      <th>3</th>\n",
       "      <td>0</td>\n",
       "    </tr>\n",
       "    <tr>\n",
       "      <th>4</th>\n",
       "      <td>0</td>\n",
       "    </tr>\n",
       "    <tr>\n",
       "      <th>...</th>\n",
       "      <td>...</td>\n",
       "    </tr>\n",
       "    <tr>\n",
       "      <th>18920</th>\n",
       "      <td>0</td>\n",
       "    </tr>\n",
       "    <tr>\n",
       "      <th>18921</th>\n",
       "      <td>0</td>\n",
       "    </tr>\n",
       "    <tr>\n",
       "      <th>18922</th>\n",
       "      <td>0</td>\n",
       "    </tr>\n",
       "    <tr>\n",
       "      <th>18923</th>\n",
       "      <td>0</td>\n",
       "    </tr>\n",
       "    <tr>\n",
       "      <th>18924</th>\n",
       "      <td>0</td>\n",
       "    </tr>\n",
       "  </tbody>\n",
       "</table>\n",
       "<p>18925 rows × 1 columns</p>\n",
       "</div>"
      ],
      "text/plain": [
       "       0\n",
       "0      0\n",
       "1      0\n",
       "2      0\n",
       "3      0\n",
       "4      0\n",
       "...   ..\n",
       "18920  0\n",
       "18921  0\n",
       "18922  0\n",
       "18923  0\n",
       "18924  0\n",
       "\n",
       "[18925 rows x 1 columns]"
      ]
     },
     "execution_count": 48,
     "metadata": {},
     "output_type": "execute_result"
    }
   ],
   "source": [
    "y_pred=pd.DataFrame(model.predict(featuer_selected))\n",
    "y_pred"
   ]
  },
  {
   "cell_type": "markdown",
   "id": "b45be8d4",
   "metadata": {},
   "source": [
    " `replacing the values in the y_test variable with numeric values. It uses the replace() method to map the values 'not_Cancelled' to 0 and 'Cancelled' to 1. This is done to convert the categorical labels into numerical format, which is often required for training machine learning models.`"
   ]
  },
  {
   "cell_type": "code",
   "execution_count": 49,
   "id": "6dfd352a",
   "metadata": {},
   "outputs": [],
   "source": [
    "y_test=y_test.replace({'not_Cancelled':0,'Cancelled':1})"
   ]
  },
  {
   "cell_type": "markdown",
   "id": "e194d30e",
   "metadata": {},
   "source": [
    "# Evaluation of the Model"
   ]
  },
  {
   "cell_type": "code",
   "execution_count": 50,
   "id": "57647480",
   "metadata": {},
   "outputs": [],
   "source": [
    "from sklearn.metrics import accuracy_score, f1_score, precision_score, recall_score"
   ]
  },
  {
   "cell_type": "markdown",
   "id": "d0a5453d",
   "metadata": {},
   "source": [
    " `The classification_report function generates a report that includes precision, recall, F1-score, and support for each class. In this case, the classes are labeled as 0 and 1. The report shows the performance metrics for both classes, as well as the macro average and weighted average of the metrics across all classes. The precision, recall, and F1-score values indicate how well the model is performing for each class, while the support value represents the number of samples in each class.`"
   ]
  },
  {
   "cell_type": "code",
   "execution_count": 51,
   "id": "d4b81844",
   "metadata": {},
   "outputs": [
    {
     "name": "stdout",
     "output_type": "stream",
     "text": [
      "              precision    recall  f1-score   support\n",
      "\n",
      "           0       1.00      1.00      1.00     13622\n",
      "           1       1.00      1.00      1.00      5303\n",
      "\n",
      "    accuracy                           1.00     18925\n",
      "   macro avg       1.00      1.00      1.00     18925\n",
      "weighted avg       1.00      1.00      1.00     18925\n",
      "\n"
     ]
    }
   ],
   "source": [
    "print(classification_report(y_pred,y_test))\n",
    "\n",
    "cm = confusion_matrix(y_pred,y_test)"
   ]
  },
  {
   "cell_type": "markdown",
   "id": "39f47fdb",
   "metadata": {},
   "source": [
    "`This line prints a classification report which provides various performance metrics such as precision, recall, F1-score, and support for each class. The y_pred variable contains the predicted labels generated by the model, while the y_test variable contains the actual labels. The classification report gives an overview of how well the model is performing for each class and provides additional metrics for evaluation.`"
   ]
  },
  {
   "cell_type": "markdown",
   "id": "52337a42",
   "metadata": {},
   "source": [
    "<div class=\"alert alert-info\">\n",
    "\n",
    "# Based on accuracy score that we found that <b>Decision Tree</b> classifier works best for this dataset.\n",
    "</div>"
   ]
  },
  {
   "cell_type": "markdown",
   "id": "7e201cc5",
   "metadata": {},
   "source": [
    " `The ConfusionMatrixDisplay class is imported from scikit-learn's metrics module.`<br>\n",
    " `The ConfusionMatrixDisplay object is created and assigned to the variable disp.`<br>\n",
    " `The confusion_matrix parameter of the ConfusionMatrixDisplay object is set to the variable cm,\n",
    "  which is expected to contain the confusion matrix values.`<br>\n",
    " `The plot() method is called on the disp object to display the confusion matrix plot.`"
   ]
  },
  {
   "cell_type": "code",
   "execution_count": 52,
   "id": "9e41f83d",
   "metadata": {
    "scrolled": false
   },
   "outputs": [
    {
     "data": {
      "text/plain": [
       "<sklearn.metrics._plot.confusion_matrix.ConfusionMatrixDisplay at 0x22962a32710>"
      ]
     },
     "execution_count": 52,
     "metadata": {},
     "output_type": "execute_result"
    },
    {
     "data": {
      "image/png": "[encoded data removed]",
      "text/plain": [
       "<Figure size 640x480 with 2 Axes>"
      ]
     },
     "metadata": {},
     "output_type": "display_data"
    }
   ],
   "source": [
    "disp = ConfusionMatrixDisplay(confusion_matrix=cm)\n",
    "disp.plot()"
   ]
  },
  {
   "cell_type": "markdown",
   "id": "dc0c9cb0",
   "metadata": {},
   "source": [
    "<div class=\"alert alert-info\">\n",
    "   In total of 18925 bookings. that are<br>\n",
    "          NOT CANCELLED = 13622<br>\n",
    "              CANCELLED = 5303<br>\n",
    "</div>"
   ]
  }
 ],
 "metadata": {
  "kernelspec": {
   "display_name": "Python 3 (ipykernel)",
   "language": "python",
   "name": "python3"
  },
  "language_info": {
   "codemirror_mode": {
    "name": "ipython",
    "version": 3
   },
   "file_extension": ".py",
   "mimetype": "text/x-python",
   "name": "python",
   "nbconvert_exporter": "python",
   "pygments_lexer": "ipython3",
   "version": "3.10.8"
  }
 },
 "nbformat": 4,
 "nbformat_minor": 5
}
